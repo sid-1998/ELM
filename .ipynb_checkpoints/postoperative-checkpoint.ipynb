{
 "cells": [
  {
   "cell_type": "code",
   "execution_count": 1,
   "metadata": {},
   "outputs": [],
   "source": [
    "import numpy as np\n",
    "import pandas as pd\n",
    "import matplotlib.pyplot as plt"
   ]
  },
  {
   "cell_type": "code",
   "execution_count": 2,
   "metadata": {},
   "outputs": [
    {
     "data": {
      "text/html": [
       "<div>\n",
       "<style scoped>\n",
       "    .dataframe tbody tr th:only-of-type {\n",
       "        vertical-align: middle;\n",
       "    }\n",
       "\n",
       "    .dataframe tbody tr th {\n",
       "        vertical-align: top;\n",
       "    }\n",
       "\n",
       "    .dataframe thead th {\n",
       "        text-align: right;\n",
       "    }\n",
       "</style>\n",
       "<table border=\"1\" class=\"dataframe\">\n",
       "  <thead>\n",
       "    <tr style=\"text-align: right;\">\n",
       "      <th></th>\n",
       "      <th>F1</th>\n",
       "      <th>F2</th>\n",
       "      <th>F3</th>\n",
       "      <th>F4</th>\n",
       "      <th>F5</th>\n",
       "      <th>F6</th>\n",
       "      <th>F7</th>\n",
       "      <th>F8</th>\n",
       "      <th>Label</th>\n",
       "    </tr>\n",
       "  </thead>\n",
       "  <tbody>\n",
       "    <tr>\n",
       "      <th>0</th>\n",
       "      <td>1</td>\n",
       "      <td>0</td>\n",
       "      <td>2</td>\n",
       "      <td>1</td>\n",
       "      <td>1</td>\n",
       "      <td>1.0</td>\n",
       "      <td>1.0</td>\n",
       "      <td>15</td>\n",
       "      <td>A</td>\n",
       "    </tr>\n",
       "    <tr>\n",
       "      <th>1</th>\n",
       "      <td>1</td>\n",
       "      <td>2</td>\n",
       "      <td>2</td>\n",
       "      <td>2</td>\n",
       "      <td>1</td>\n",
       "      <td>1.0</td>\n",
       "      <td>1.0</td>\n",
       "      <td>10</td>\n",
       "      <td>S</td>\n",
       "    </tr>\n",
       "    <tr>\n",
       "      <th>2</th>\n",
       "      <td>2</td>\n",
       "      <td>0</td>\n",
       "      <td>2</td>\n",
       "      <td>2</td>\n",
       "      <td>1</td>\n",
       "      <td>1.0</td>\n",
       "      <td>0.5</td>\n",
       "      <td>10</td>\n",
       "      <td>A</td>\n",
       "    </tr>\n",
       "    <tr>\n",
       "      <th>3</th>\n",
       "      <td>1</td>\n",
       "      <td>0</td>\n",
       "      <td>1</td>\n",
       "      <td>2</td>\n",
       "      <td>1</td>\n",
       "      <td>0.0</td>\n",
       "      <td>0.5</td>\n",
       "      <td>15</td>\n",
       "      <td>A</td>\n",
       "    </tr>\n",
       "    <tr>\n",
       "      <th>4</th>\n",
       "      <td>1</td>\n",
       "      <td>1</td>\n",
       "      <td>2</td>\n",
       "      <td>2</td>\n",
       "      <td>1</td>\n",
       "      <td>1.0</td>\n",
       "      <td>1.0</td>\n",
       "      <td>10</td>\n",
       "      <td>A</td>\n",
       "    </tr>\n",
       "  </tbody>\n",
       "</table>\n",
       "</div>"
      ],
      "text/plain": [
       "   F1  F2  F3  F4  F5   F6   F7  F8 Label\n",
       "0   1   0   2   1   1  1.0  1.0  15     A\n",
       "1   1   2   2   2   1  1.0  1.0  10     S\n",
       "2   2   0   2   2   1  1.0  0.5  10     A\n",
       "3   1   0   1   2   1  0.0  0.5  15    A \n",
       "4   1   1   2   2   1  1.0  1.0  10     A"
      ]
     },
     "execution_count": 2,
     "metadata": {},
     "output_type": "execute_result"
    }
   ],
   "source": [
    "df = pd.read_csv(\"./datasets/postoperative.csv\")\n",
    "df.head()"
   ]
  },
  {
   "cell_type": "code",
   "execution_count": 3,
   "metadata": {},
   "outputs": [
    {
     "data": {
      "text/plain": [
       "(array(['A', 'A ', 'I', 'S'], dtype=object),\n",
       " array([61,  1,  1, 24], dtype=int64))"
      ]
     },
     "execution_count": 3,
     "metadata": {},
     "output_type": "execute_result"
    }
   ],
   "source": [
    "np.unique(df.Label, return_counts=True)"
   ]
  },
  {
   "cell_type": "code",
   "execution_count": 4,
   "metadata": {
    "scrolled": true
   },
   "outputs": [
    {
     "name": "stderr",
     "output_type": "stream",
     "text": [
      "c:\\users\\asus\\appdata\\local\\programs\\python\\python36\\lib\\site-packages\\ipykernel_launcher.py:1: SettingWithCopyWarning: \n",
      "A value is trying to be set on a copy of a slice from a DataFrame\n",
      "\n",
      "See the caveats in the documentation: http://pandas.pydata.org/pandas-docs/stable/indexing.html#indexing-view-versus-copy\n",
      "  \"\"\"Entry point for launching an IPython kernel.\n",
      "c:\\users\\asus\\appdata\\local\\programs\\python\\python36\\lib\\site-packages\\ipykernel_launcher.py:2: SettingWithCopyWarning: \n",
      "A value is trying to be set on a copy of a slice from a DataFrame\n",
      "\n",
      "See the caveats in the documentation: http://pandas.pydata.org/pandas-docs/stable/indexing.html#indexing-view-versus-copy\n",
      "  \n",
      "c:\\users\\asus\\appdata\\local\\programs\\python\\python36\\lib\\site-packages\\ipykernel_launcher.py:3: SettingWithCopyWarning: \n",
      "A value is trying to be set on a copy of a slice from a DataFrame\n",
      "\n",
      "See the caveats in the documentation: http://pandas.pydata.org/pandas-docs/stable/indexing.html#indexing-view-versus-copy\n",
      "  This is separate from the ipykernel package so we can avoid doing imports until\n",
      "c:\\users\\asus\\appdata\\local\\programs\\python\\python36\\lib\\site-packages\\ipykernel_launcher.py:4: SettingWithCopyWarning: \n",
      "A value is trying to be set on a copy of a slice from a DataFrame\n",
      "\n",
      "See the caveats in the documentation: http://pandas.pydata.org/pandas-docs/stable/indexing.html#indexing-view-versus-copy\n",
      "  after removing the cwd from sys.path.\n"
     ]
    }
   ],
   "source": [
    "df.Label[df.Label == 'A'] = 0\n",
    "df.Label[df.Label == 'A '] = 1\n",
    "df.Label[df.Label == 'I'] = 1\n",
    "df.Label[df.Label == 'S'] = 1"
   ]
  },
  {
   "cell_type": "code",
   "execution_count": 5,
   "metadata": {},
   "outputs": [
    {
     "data": {
      "text/html": [
       "<div>\n",
       "<style scoped>\n",
       "    .dataframe tbody tr th:only-of-type {\n",
       "        vertical-align: middle;\n",
       "    }\n",
       "\n",
       "    .dataframe tbody tr th {\n",
       "        vertical-align: top;\n",
       "    }\n",
       "\n",
       "    .dataframe thead th {\n",
       "        text-align: right;\n",
       "    }\n",
       "</style>\n",
       "<table border=\"1\" class=\"dataframe\">\n",
       "  <thead>\n",
       "    <tr style=\"text-align: right;\">\n",
       "      <th></th>\n",
       "      <th>F1</th>\n",
       "      <th>F2</th>\n",
       "      <th>F3</th>\n",
       "      <th>F4</th>\n",
       "      <th>F5</th>\n",
       "      <th>F6</th>\n",
       "      <th>F7</th>\n",
       "      <th>F8</th>\n",
       "      <th>Label</th>\n",
       "    </tr>\n",
       "  </thead>\n",
       "  <tbody>\n",
       "    <tr>\n",
       "      <th>0</th>\n",
       "      <td>1</td>\n",
       "      <td>0</td>\n",
       "      <td>2</td>\n",
       "      <td>1</td>\n",
       "      <td>1</td>\n",
       "      <td>1.0</td>\n",
       "      <td>1.0</td>\n",
       "      <td>15</td>\n",
       "      <td>0</td>\n",
       "    </tr>\n",
       "    <tr>\n",
       "      <th>1</th>\n",
       "      <td>1</td>\n",
       "      <td>2</td>\n",
       "      <td>2</td>\n",
       "      <td>2</td>\n",
       "      <td>1</td>\n",
       "      <td>1.0</td>\n",
       "      <td>1.0</td>\n",
       "      <td>10</td>\n",
       "      <td>1</td>\n",
       "    </tr>\n",
       "    <tr>\n",
       "      <th>2</th>\n",
       "      <td>2</td>\n",
       "      <td>0</td>\n",
       "      <td>2</td>\n",
       "      <td>2</td>\n",
       "      <td>1</td>\n",
       "      <td>1.0</td>\n",
       "      <td>0.5</td>\n",
       "      <td>10</td>\n",
       "      <td>0</td>\n",
       "    </tr>\n",
       "    <tr>\n",
       "      <th>3</th>\n",
       "      <td>1</td>\n",
       "      <td>0</td>\n",
       "      <td>1</td>\n",
       "      <td>2</td>\n",
       "      <td>1</td>\n",
       "      <td>0.0</td>\n",
       "      <td>0.5</td>\n",
       "      <td>15</td>\n",
       "      <td>1</td>\n",
       "    </tr>\n",
       "    <tr>\n",
       "      <th>4</th>\n",
       "      <td>1</td>\n",
       "      <td>1</td>\n",
       "      <td>2</td>\n",
       "      <td>2</td>\n",
       "      <td>1</td>\n",
       "      <td>1.0</td>\n",
       "      <td>1.0</td>\n",
       "      <td>10</td>\n",
       "      <td>0</td>\n",
       "    </tr>\n",
       "  </tbody>\n",
       "</table>\n",
       "</div>"
      ],
      "text/plain": [
       "   F1  F2  F3  F4  F5   F6   F7  F8 Label\n",
       "0   1   0   2   1   1  1.0  1.0  15     0\n",
       "1   1   2   2   2   1  1.0  1.0  10     1\n",
       "2   2   0   2   2   1  1.0  0.5  10     0\n",
       "3   1   0   1   2   1  0.0  0.5  15     1\n",
       "4   1   1   2   2   1  1.0  1.0  10     0"
      ]
     },
     "execution_count": 5,
     "metadata": {},
     "output_type": "execute_result"
    }
   ],
   "source": [
    "df.head()"
   ]
  },
  {
   "cell_type": "code",
   "execution_count": 6,
   "metadata": {},
   "outputs": [
    {
     "data": {
      "text/plain": [
       "(array([0, 1], dtype=object), array([61, 26], dtype=int64))"
      ]
     },
     "execution_count": 6,
     "metadata": {},
     "output_type": "execute_result"
    }
   ],
   "source": [
    "np.unique(df.Label, return_counts=True)"
   ]
  },
  {
   "cell_type": "code",
   "execution_count": 7,
   "metadata": {},
   "outputs": [
    {
     "name": "stdout",
     "output_type": "stream",
     "text": [
      "(61, 9)\n",
      "(26, 9)\n"
     ]
    }
   ],
   "source": [
    "df_norm = df[df.Label == 0]\n",
    "df_anom = df[df.Label == 1]\n",
    "ds_norm = df_norm.values\n",
    "ds_anom = df_anom.values\n",
    "print(ds_norm.shape)\n",
    "print(ds_anom.shape)"
   ]
  },
  {
   "cell_type": "code",
   "execution_count": null,
   "metadata": {},
   "outputs": [],
   "source": []
  },
  {
   "cell_type": "code",
   "execution_count": 8,
   "metadata": {},
   "outputs": [
    {
     "name": "stdout",
     "output_type": "stream",
     "text": [
      "(50, 8) (50,)\n"
     ]
    }
   ],
   "source": [
    "X_train = ds_norm[:50, :-1]\n",
    "Y_train = ds_norm[:50, -1]\n",
    "print(X_train.shape, Y_train.shape)"
   ]
  },
  {
   "cell_type": "code",
   "execution_count": 9,
   "metadata": {},
   "outputs": [
    {
     "name": "stdout",
     "output_type": "stream",
     "text": [
      "(37, 8)\n",
      "(37,)\n"
     ]
    }
   ],
   "source": [
    "l = ds_norm.shape[0] - X_train.shape[0] \n",
    "no_of_test_samples = l + ds_anom.shape[0]\n",
    "no_of_features = X_train.shape[1]\n",
    "\n",
    "X_test = np.zeros((no_of_test_samples, no_of_features))\n",
    "Y_test = np.zeros((no_of_test_samples,))\n",
    "\n",
    "X_test[:l, :] = ds_norm[50:, :-1]\n",
    "X_test[l:, :] = ds_anom[:,:-1]\n",
    "print(X_test.shape)\n",
    "Y_test[:l,] = ds_norm[50:, -1]\n",
    "Y_test[l:,] = ds_anom[:, -1]\n",
    "print(Y_test.shape)"
   ]
  },
  {
   "cell_type": "code",
   "execution_count": 10,
   "metadata": {},
   "outputs": [
    {
     "name": "stdout",
     "output_type": "stream",
     "text": [
      "(50, 8) (50,)\n",
      "(37, 8) (37,)\n"
     ]
    }
   ],
   "source": [
    "print(X_train.shape, Y_train.shape)\n",
    "print(X_test.shape, Y_test.shape)"
   ]
  },
  {
   "cell_type": "code",
   "execution_count": null,
   "metadata": {},
   "outputs": [],
   "source": []
  },
  {
   "cell_type": "code",
   "execution_count": 11,
   "metadata": {},
   "outputs": [],
   "source": [
    "# CHECK : Constants\n",
    "omega = 1.\n",
    "\n",
    "class ELM(object):\n",
    "    def __init__(self, sess, batch_size, input_len, hidden_num, output_len, W, b):\n",
    "        '''\n",
    "        Args:\n",
    "          sess : TensorFlow session.\n",
    "          batch_size : The batch size (N)\n",
    "          input_len : The length of input. (L)\n",
    "          hidden_num : The number of hidden node. (K)\n",
    "          output_len : The length of output. (O)\n",
    "          W : randomly initialized weights\n",
    "          b : randomly initialized bias\n",
    "        '''\n",
    "    \n",
    "        self._sess = sess \n",
    "        self._batch_size = batch_size\n",
    "        self._input_len = input_len\n",
    "        self._hidden_num = hidden_num\n",
    "        self._output_len = output_len \n",
    "\n",
    "        # for train\n",
    "        self._x0 = tf.placeholder(tf.float32, [self._batch_size, self._input_len])\n",
    "        self._t0 = tf.placeholder(tf.float32, [self._batch_size, self._output_len])\n",
    "\n",
    "        # for test\n",
    "        self._x1 = tf.placeholder(tf.float32, [None, self._input_len])\n",
    "        self._t1 = tf.placeholder(tf.float32, [None, self._output_len])\n",
    "\n",
    "#         self._W = tf.Variable(\n",
    "#           tf.random_normal([self._input_len, self._hidden_num]),\n",
    "#           trainable=False, dtype=tf.float32)\n",
    "#         self._b = tf.Variable(\n",
    "#           tf.random_normal([self._hidden_num]),\n",
    "#           trainable=False, dtype=tf.float32)\n",
    "\n",
    "        ## Wts initialisation\n",
    "        self._W = W\n",
    "        self._b = b\n",
    "        \n",
    "        self._beta = tf.Variable(\n",
    "          tf.zeros([self._hidden_num, self._output_len]),\n",
    "          trainable=False, dtype=tf.float32)\n",
    "        self._var_list = [self._W, self._b, self._beta]\n",
    "\n",
    "        self.H0 = tf.matmul(self._x0, self._W) + self._b # N x L\n",
    "        self.H0_T = tf.transpose(self.H0)\n",
    "\n",
    "        self.H1 = tf.matmul(self._x1, self._W) + self._b # N x L\n",
    "        self.H1_T = tf.transpose(self.H1)\n",
    "\n",
    "        # beta analytic solution : self._beta_s (K x O)\n",
    "        if self._input_len < self._hidden_num: # L < K\n",
    "            identity = tf.constant(np.identity(self._hidden_num), dtype=tf.float32)\n",
    "            self._beta_s = tf.matmul(tf.matmul(tf.matrix_inverse(\n",
    "                tf.matmul(self.H0_T, self.H0) + identity/omega), \n",
    "                self.H0_T), self._t0)\n",
    "          # _beta_s = (H_T*H + I/om)^(-1)*H_T*T\n",
    "        else:\n",
    "            identity = tf.constant(np.identity(self._batch_size), dtype=tf.float32)\n",
    "            self._beta_s = tf.matmul(tf.matmul(self.H0_T, tf.matrix_inverse(\n",
    "                tf.matmul(self.H0, self.H0_T)+identity/omega)), self._t0)\n",
    "          # _beta_s = H_T*(H*H_T + I/om)^(-1)*T\n",
    "\n",
    "        self._assign_beta = self._beta.assign(self._beta_s)\n",
    "        self._fx0 = tf.matmul(self.H0, self._beta)\n",
    "        self._fx1 = tf.matmul(self.H1, self._beta)\n",
    "\n",
    "        self._cost = tf.reduce_mean(tf.cast(tf.losses.mean_squared_error(labels=self._t0, predictions=self._fx0), tf.float32))\n",
    "                                        \n",
    "        self._init = False\n",
    "        self._feed = False\n",
    "\n",
    "        # Cost for every sample point\n",
    "#         self._correct_prediction = tf.equal(tf.argmax(self._fx1,1), tf.argmax(self._t1,1))\n",
    "#         self._accuracy = tf.reduce_mean(tf.cast(self._correct_prediction, tf.float32))\n",
    "        self._testcost = tf.cast(tf.losses.mean_squared_error(labels=self._t1, predictions=self._fx1), tf.float32)\n",
    "\n",
    "\n",
    "    def feed(self, x, t):\n",
    "        '''\n",
    "        Args :\n",
    "          x : input array (N x L)\n",
    "          t : label array (N x O)\n",
    "        '''\n",
    "\n",
    "        if not self._init : self.init()\n",
    "        self._sess.run(self._assign_beta, {self._x0:x, self._t0:t})\n",
    "#         print(self._sess.run(self._cost, {self._x0:x, self._t0:t}))\n",
    "        \n",
    "        self._feed = True\n",
    "\n",
    "    def init(self):\n",
    "        self._sess.run(tf.initialize_variables(self._var_list))\n",
    "        self._init = True\n",
    "\n",
    "    def test(self, x, t=None):\n",
    "        if not self._feed : exit(\"Not feed-forward trained\")\n",
    "        if t is not None :\n",
    "#             print(\"Accuracy: {:.9f}\".format(self._sess.run(self._accuracy, {self._x1:x, self._t1:t})))\n",
    "            return self._sess.run(self._testcost, {self._x1:x, self._t1:t})\n",
    "            \n",
    "        else :\n",
    "            return self._sess.run(self._fx1, {self._x1:x})\n"
   ]
  },
  {
   "cell_type": "code",
   "execution_count": 12,
   "metadata": {},
   "outputs": [],
   "source": [
    "import tensorflow as tf"
   ]
  },
  {
   "cell_type": "code",
   "execution_count": 13,
   "metadata": {},
   "outputs": [
    {
     "name": "stdout",
     "output_type": "stream",
     "text": [
      "batch_size : 50\n",
      "hidden_num : 150\n",
      "8\n"
     ]
    }
   ],
   "source": [
    "sess = tf.Session()\n",
    "batch_size = X_train.shape[0]\n",
    "hidden_num = 150\n",
    "input_len = X_train.shape[1]\n",
    "print(\"batch_size : {}\".format(batch_size))\n",
    "print(\"hidden_num : {}\".format(hidden_num))\n",
    "print(input_len)\n",
    "W = tf.Variable(\n",
    "  tf.random_normal([input_len, hidden_num]),\n",
    "  trainable=False, dtype=tf.float32)\n",
    "b = tf.Variable(\n",
    "  tf.random_normal([hidden_num]),\n",
    "  trainable=False, dtype=tf.float32)"
   ]
  },
  {
   "cell_type": "code",
   "execution_count": 14,
   "metadata": {},
   "outputs": [
    {
     "name": "stdout",
     "output_type": "stream",
     "text": [
      "10\n"
     ]
    }
   ],
   "source": [
    "init_list = []\n",
    "for i in range(10):\n",
    "        init_list.append((tf.Variable(tf.random_normal([input_len, hidden_num],seed=i),trainable=False, dtype=tf.float32),tf.Variable(tf.random_normal([hidden_num], seed=i),trainable=False, dtype=tf.float32)))\n",
    "print(len(init_list))"
   ]
  },
  {
   "cell_type": "code",
   "execution_count": 15,
   "metadata": {},
   "outputs": [],
   "source": [
    "def accuracy(anom_pred):\n",
    "    cnt = 0\n",
    "    for pt in anom_pred:\n",
    "        if pt[1]>=ds_norm.shape[0]-X_train.shape[0] and pt[1]<X_test.shape[0]:\n",
    "            cnt+=1\n",
    "    return (cnt/float(ds_anom.shape[0]))*100"
   ]
  },
  {
   "cell_type": "code",
   "execution_count": 16,
   "metadata": {},
   "outputs": [
    {
     "name": "stdout",
     "output_type": "stream",
     "text": [
      "0\n",
      "WARNING:tensorflow:From c:\\users\\asus\\appdata\\local\\programs\\python\\python36\\lib\\site-packages\\tensorflow\\python\\util\\tf_should_use.py:118: initialize_variables (from tensorflow.python.ops.variables) is deprecated and will be removed after 2017-03-02.\n",
      "Instructions for updating:\n",
      "Use `tf.variables_initializer` instead.\n",
      "1\n",
      "2\n",
      "3\n",
      "4\n",
      "5\n",
      "6\n",
      "7\n",
      "8\n",
      "9\n"
     ]
    }
   ],
   "source": [
    "\n",
    "results = {}\n",
    "itr = 0\n",
    "best_W = tf.Variable(tf.zeros([input_len,hidden_num]))\n",
    "best_b = tf.Variable(tf.zeros([hidden_num]))\n",
    "best_acc = 0.0\n",
    "best_acc_idx = 0\n",
    "\n",
    "for W,b in init_list:\n",
    "    print(itr)\n",
    "    ## feed W,b from list and evaluate error and accuracy corresponding to them\n",
    "    elm = ELM(sess, batch_size, input_len, hidden_num, input_len, W, b)\n",
    "    train_x, train_y = (X_train[:batch_size], X_train[:batch_size])\n",
    "\n",
    "    elm.feed(train_x, train_y)\n",
    "    \n",
    "    ## error list\n",
    "    err = []\n",
    "    for idx,test_pt in enumerate(X_test):\n",
    "        x = test_pt.reshape(1,-1)\n",
    "        err.append((elm.test(x, x), idx))\n",
    "    \n",
    "    err.sort(reverse=True)\n",
    "    \n",
    "    anom_pred = err[:ds_anom.shape[0]]\n",
    "    \n",
    "    acc = accuracy(anom_pred) \n",
    "    \n",
    "    results[itr] = [(err,acc)]\n",
    "    itr += 1\n",
    "    if acc>best_acc:\n",
    "        best_W = W\n",
    "        best_b = b\n",
    "        best_acc = acc\n",
    "        best_acc_idx = itr-1\n",
    "    \n"
   ]
  },
  {
   "cell_type": "code",
   "execution_count": 17,
   "metadata": {},
   "outputs": [
    {
     "name": "stdout",
     "output_type": "stream",
     "text": [
      "65.38461538461539\n",
      "69.23076923076923\n",
      "69.23076923076923\n",
      "69.23076923076923\n",
      "65.38461538461539\n",
      "73.07692307692307\n",
      "76.92307692307693\n",
      "76.92307692307693\n",
      "76.92307692307693\n",
      "76.92307692307693\n"
     ]
    }
   ],
   "source": [
    "for k in results.keys():\n",
    "    print(results[k][0][1])"
   ]
  },
  {
   "cell_type": "code",
   "execution_count": 18,
   "metadata": {},
   "outputs": [
    {
     "data": {
      "text/plain": [
       "[(0.020764474, 25),\n",
       " (0.01959753, 12),\n",
       " (0.015824033, 32),\n",
       " (0.015677793, 18),\n",
       " (0.015144641, 35),\n",
       " (0.014445884, 5),\n",
       " (0.012965356, 36),\n",
       " (0.012965356, 9),\n",
       " (0.0115396185, 13),\n",
       " (0.0110326, 15),\n",
       " (0.010377074, 24),\n",
       " (0.009208685, 1),\n",
       " (0.00869498, 22),\n",
       " (0.0072348025, 23),\n",
       " (0.0068107285, 34),\n",
       " (0.0067954278, 11),\n",
       " (0.006091049, 20),\n",
       " (0.0058635254, 30),\n",
       " (0.0058635254, 4),\n",
       " (0.005723813, 16),\n",
       " (0.0056641465, 27),\n",
       " (0.005463127, 26),\n",
       " (0.0054598674, 10),\n",
       " (0.0054598674, 8),\n",
       " (0.0054272776, 28),\n",
       " (0.005397267, 19),\n",
       " (0.0053232564, 33),\n",
       " (0.005044241, 0),\n",
       " (0.005034431, 7),\n",
       " (0.005034431, 3),\n",
       " (0.004964445, 29),\n",
       " (0.0049047386, 31),\n",
       " (0.0049047386, 2),\n",
       " (0.0047783516, 21),\n",
       " (0.0045255725, 17),\n",
       " (0.0035211938, 14),\n",
       " (0.0026354792, 6)]"
      ]
     },
     "execution_count": 18,
     "metadata": {},
     "output_type": "execute_result"
    }
   ],
   "source": [
    "err = results[best_acc_idx][0][0]\n",
    "err"
   ]
  },
  {
   "cell_type": "code",
   "execution_count": 19,
   "metadata": {},
   "outputs": [],
   "source": [
    "err_array = np.array(err)"
   ]
  },
  {
   "cell_type": "code",
   "execution_count": 20,
   "metadata": {},
   "outputs": [
    {
     "data": {
      "image/png": "[encoded data removed]",
      "text/plain": [
       "<Figure size 432x288 with 1 Axes>"
      ]
     },
     "metadata": {
      "needs_background": "light"
     },
     "output_type": "display_data"
    }
   ],
   "source": [
    "plt.bar(err_array[:,1], err_array[:,0])\n",
    "plt.show()"
   ]
  },
  {
   "cell_type": "code",
   "execution_count": 21,
   "metadata": {},
   "outputs": [
    {
     "name": "stdout",
     "output_type": "stream",
     "text": [
      "(8, 150)\n",
      "(150,)\n",
      "76.92307692307693\n"
     ]
    }
   ],
   "source": [
    "W_final = best_W.eval(session=sess)\n",
    "b_final = best_b.eval(session=sess)\n",
    "print(W_final.shape)\n",
    "print(b_final.shape)\n",
    "print(best_acc)"
   ]
  },
  {
   "cell_type": "code",
   "execution_count": 22,
   "metadata": {},
   "outputs": [],
   "source": [
    "## one class SVM"
   ]
  },
  {
   "cell_type": "code",
   "execution_count": 11,
   "metadata": {},
   "outputs": [],
   "source": [
    "from sklearn.svm import OneClassSVM"
   ]
  },
  {
   "cell_type": "code",
   "execution_count": 12,
   "metadata": {},
   "outputs": [],
   "source": [
    "ocSVM = OneClassSVM()\n",
    "ocSVM.fit(X_train)\n",
    "pred = ocSVM.predict(X_test)"
   ]
  },
  {
   "cell_type": "code",
   "execution_count": 13,
   "metadata": {},
   "outputs": [],
   "source": [
    "pred[pred==1] = 0\n",
    "pred[pred==-1] = 1"
   ]
  },
  {
   "cell_type": "code",
   "execution_count": 14,
   "metadata": {},
   "outputs": [
    {
     "data": {
      "text/plain": [
       "0.5675675675675675"
      ]
     },
     "execution_count": 14,
     "metadata": {},
     "output_type": "execute_result"
    }
   ],
   "source": [
    "acc = np.sum(pred == Y_test)/X_test.shape[0]\n",
    "acc"
   ]
  },
  {
   "cell_type": "code",
   "execution_count": 15,
   "metadata": {},
   "outputs": [],
   "source": [
    "## Data preparation for clustering algorithms"
   ]
  },
  {
   "cell_type": "code",
   "execution_count": 16,
   "metadata": {},
   "outputs": [
    {
     "data": {
      "text/plain": [
       "(87, 8)"
      ]
     },
     "execution_count": 16,
     "metadata": {},
     "output_type": "execute_result"
    }
   ],
   "source": [
    "samples = X_train.shape[0]+X_test.shape[0]\n",
    "X = np.zeros((samples,X_train.shape[1]))\n",
    "X[:X_train.shape[0], :] = X_train[:, :]\n",
    "X[X_train.shape[0]:, :] = X_test[:, :]\n",
    "X.shape"
   ]
  },
  {
   "cell_type": "code",
   "execution_count": 17,
   "metadata": {},
   "outputs": [
    {
     "data": {
      "text/plain": [
       "(87,)"
      ]
     },
     "execution_count": 17,
     "metadata": {},
     "output_type": "execute_result"
    }
   ],
   "source": [
    "Y = np.zeros(samples,)\n",
    "Y[:Y_train.shape[0]] = Y_train\n",
    "Y[Y_train.shape[0]:] = Y_test\n",
    "Y.shape"
   ]
  },
  {
   "cell_type": "code",
   "execution_count": 18,
   "metadata": {},
   "outputs": [],
   "source": [
    "## DBSCAN"
   ]
  },
  {
   "cell_type": "code",
   "execution_count": 19,
   "metadata": {},
   "outputs": [],
   "source": [
    "from sklearn.cluster import DBSCAN\n",
    "dbscan = DBSCAN(eps=20.0)\n",
    "pred = dbscan.fit_predict(X)"
   ]
  },
  {
   "cell_type": "code",
   "execution_count": 20,
   "metadata": {},
   "outputs": [
    {
     "data": {
      "text/plain": [
       "0.7011494252873564"
      ]
     },
     "execution_count": 20,
     "metadata": {},
     "output_type": "execute_result"
    }
   ],
   "source": [
    "acc = np.sum(pred==Y)/Y.shape[0]\n",
    "acc"
   ]
  },
  {
   "cell_type": "code",
   "execution_count": 21,
   "metadata": {},
   "outputs": [],
   "source": [
    "## LOF"
   ]
  },
  {
   "cell_type": "code",
   "execution_count": 22,
   "metadata": {},
   "outputs": [
    {
     "name": "stderr",
     "output_type": "stream",
     "text": [
      "c:\\users\\asus\\appdata\\local\\programs\\python\\python36\\lib\\site-packages\\scipy\\stats\\stats.py:1713: FutureWarning: Using a non-tuple sequence for multidimensional indexing is deprecated; use `arr[tuple(seq)]` instead of `arr[seq]`. In the future this will be interpreted as an array index, `arr[np.array(seq)]`, which will result either in an error or a different result.\n",
      "  return np.add.reduce(sorted[indexer] * weights, axis=axis) / sumval\n"
     ]
    }
   ],
   "source": [
    "from sklearn.neighbors import LocalOutlierFactor\n",
    "lof = LocalOutlierFactor()\n",
    "pred = lof.fit_predict(X)"
   ]
  },
  {
   "cell_type": "code",
   "execution_count": 23,
   "metadata": {},
   "outputs": [],
   "source": [
    "pred[pred==1] = 0\n",
    "pred[pred == -1] = 1\n"
   ]
  },
  {
   "cell_type": "code",
   "execution_count": 24,
   "metadata": {},
   "outputs": [
    {
     "data": {
      "text/plain": [
       "0.6666666666666666"
      ]
     },
     "execution_count": 24,
     "metadata": {},
     "output_type": "execute_result"
    }
   ],
   "source": [
    "acc = np.sum(pred==Y)/Y.shape[0]\n",
    "acc"
   ]
  },
  {
   "cell_type": "markdown",
   "metadata": {},
   "source": [
    "## Accuracy in percentage\n",
    "    ELM: 76.92\n",
    "    One Class SVM: 56.75\n",
    "    DBSCAN: 70.11\n",
    "    LOF: 66.66"
   ]
  },
  {
   "cell_type": "code",
   "execution_count": null,
   "metadata": {},
   "outputs": [],
   "source": []
  }
 ],
 "metadata": {
  "kernelspec": {
   "display_name": "Python 3",
   "language": "python",
   "name": "python3"
  },
  "language_info": {
   "codemirror_mode": {
    "name": "ipython",
    "version": 3
   },
   "file_extension": ".py",
   "mimetype": "text/x-python",
   "name": "python",
   "nbconvert_exporter": "python",
   "pygments_lexer": "ipython3",
   "version": "3.6.5"
  }
 },
 "nbformat": 4,
 "nbformat_minor": 2
}
