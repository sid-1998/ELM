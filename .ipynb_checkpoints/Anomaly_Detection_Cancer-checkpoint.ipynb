{
 "cells": [
  {
   "cell_type": "code",
   "execution_count": 1,
   "metadata": {},
   "outputs": [],
   "source": [
    "import tensorflow as tf\n",
    "import numpy as np\n",
    "import pandas as pd\n",
    "import matplotlib.pyplot as plt\n",
    "from sklearn.model_selection import train_test_split"
   ]
  },
  {
   "cell_type": "markdown",
   "metadata": {},
   "source": [
    "## Preparing data"
   ]
  },
  {
   "cell_type": "code",
   "execution_count": 2,
   "metadata": {},
   "outputs": [
    {
     "data": {
      "text/html": [
       "<div>\n",
       "<style scoped>\n",
       "    .dataframe tbody tr th:only-of-type {\n",
       "        vertical-align: middle;\n",
       "    }\n",
       "\n",
       "    .dataframe tbody tr th {\n",
       "        vertical-align: top;\n",
       "    }\n",
       "\n",
       "    .dataframe thead th {\n",
       "        text-align: right;\n",
       "    }\n",
       "</style>\n",
       "<table border=\"1\" class=\"dataframe\">\n",
       "  <thead>\n",
       "    <tr style=\"text-align: right;\">\n",
       "      <th></th>\n",
       "      <th>Feature1</th>\n",
       "      <th>Feature2</th>\n",
       "      <th>Feature3</th>\n",
       "      <th>Feature4</th>\n",
       "      <th>Feature5</th>\n",
       "      <th>Feature6</th>\n",
       "      <th>Feature7</th>\n",
       "      <th>Feature8</th>\n",
       "      <th>Feature9</th>\n",
       "      <th>Label</th>\n",
       "    </tr>\n",
       "  </thead>\n",
       "  <tbody>\n",
       "    <tr>\n",
       "      <th>0</th>\n",
       "      <td>5</td>\n",
       "      <td>1</td>\n",
       "      <td>1</td>\n",
       "      <td>1</td>\n",
       "      <td>2</td>\n",
       "      <td>1</td>\n",
       "      <td>3</td>\n",
       "      <td>1</td>\n",
       "      <td>1</td>\n",
       "      <td>1</td>\n",
       "    </tr>\n",
       "    <tr>\n",
       "      <th>1</th>\n",
       "      <td>5</td>\n",
       "      <td>4</td>\n",
       "      <td>4</td>\n",
       "      <td>5</td>\n",
       "      <td>7</td>\n",
       "      <td>10</td>\n",
       "      <td>3</td>\n",
       "      <td>2</td>\n",
       "      <td>1</td>\n",
       "      <td>1</td>\n",
       "    </tr>\n",
       "    <tr>\n",
       "      <th>2</th>\n",
       "      <td>3</td>\n",
       "      <td>1</td>\n",
       "      <td>1</td>\n",
       "      <td>1</td>\n",
       "      <td>2</td>\n",
       "      <td>2</td>\n",
       "      <td>3</td>\n",
       "      <td>1</td>\n",
       "      <td>1</td>\n",
       "      <td>1</td>\n",
       "    </tr>\n",
       "    <tr>\n",
       "      <th>3</th>\n",
       "      <td>6</td>\n",
       "      <td>8</td>\n",
       "      <td>8</td>\n",
       "      <td>1</td>\n",
       "      <td>3</td>\n",
       "      <td>4</td>\n",
       "      <td>3</td>\n",
       "      <td>7</td>\n",
       "      <td>1</td>\n",
       "      <td>1</td>\n",
       "    </tr>\n",
       "    <tr>\n",
       "      <th>4</th>\n",
       "      <td>4</td>\n",
       "      <td>1</td>\n",
       "      <td>1</td>\n",
       "      <td>3</td>\n",
       "      <td>2</td>\n",
       "      <td>1</td>\n",
       "      <td>3</td>\n",
       "      <td>1</td>\n",
       "      <td>1</td>\n",
       "      <td>1</td>\n",
       "    </tr>\n",
       "  </tbody>\n",
       "</table>\n",
       "</div>"
      ],
      "text/plain": [
       "   Feature1  Feature2  Feature3  Feature4  Feature5  Feature6  Feature7  \\\n",
       "0         5         1         1         1         2         1         3   \n",
       "1         5         4         4         5         7        10         3   \n",
       "2         3         1         1         1         2         2         3   \n",
       "3         6         8         8         1         3         4         3   \n",
       "4         4         1         1         3         2         1         3   \n",
       "\n",
       "   Feature8  Feature9  Label  \n",
       "0         1         1      1  \n",
       "1         2         1      1  \n",
       "2         1         1      1  \n",
       "3         7         1      1  \n",
       "4         1         1      1  "
      ]
     },
     "execution_count": 2,
     "metadata": {},
     "output_type": "execute_result"
    }
   ],
   "source": [
    "df = pd.read_csv('./datasets/cancer.csv')\n",
    "df.head()"
   ]
  },
  {
   "cell_type": "code",
   "execution_count": 3,
   "metadata": {},
   "outputs": [
    {
     "data": {
      "text/html": [
       "<div>\n",
       "<style scoped>\n",
       "    .dataframe tbody tr th:only-of-type {\n",
       "        vertical-align: middle;\n",
       "    }\n",
       "\n",
       "    .dataframe tbody tr th {\n",
       "        vertical-align: top;\n",
       "    }\n",
       "\n",
       "    .dataframe thead th {\n",
       "        text-align: right;\n",
       "    }\n",
       "</style>\n",
       "<table border=\"1\" class=\"dataframe\">\n",
       "  <thead>\n",
       "    <tr style=\"text-align: right;\">\n",
       "      <th></th>\n",
       "      <th>Feature1</th>\n",
       "      <th>Feature2</th>\n",
       "      <th>Feature3</th>\n",
       "      <th>Feature4</th>\n",
       "      <th>Feature5</th>\n",
       "      <th>Feature6</th>\n",
       "      <th>Feature7</th>\n",
       "      <th>Feature8</th>\n",
       "      <th>Feature9</th>\n",
       "      <th>Label</th>\n",
       "    </tr>\n",
       "  </thead>\n",
       "  <tbody>\n",
       "    <tr>\n",
       "      <th>0</th>\n",
       "      <td>5</td>\n",
       "      <td>1</td>\n",
       "      <td>1</td>\n",
       "      <td>1</td>\n",
       "      <td>2</td>\n",
       "      <td>1</td>\n",
       "      <td>3</td>\n",
       "      <td>1</td>\n",
       "      <td>1</td>\n",
       "      <td>1</td>\n",
       "    </tr>\n",
       "    <tr>\n",
       "      <th>1</th>\n",
       "      <td>5</td>\n",
       "      <td>4</td>\n",
       "      <td>4</td>\n",
       "      <td>5</td>\n",
       "      <td>7</td>\n",
       "      <td>10</td>\n",
       "      <td>3</td>\n",
       "      <td>2</td>\n",
       "      <td>1</td>\n",
       "      <td>1</td>\n",
       "    </tr>\n",
       "    <tr>\n",
       "      <th>2</th>\n",
       "      <td>3</td>\n",
       "      <td>1</td>\n",
       "      <td>1</td>\n",
       "      <td>1</td>\n",
       "      <td>2</td>\n",
       "      <td>2</td>\n",
       "      <td>3</td>\n",
       "      <td>1</td>\n",
       "      <td>1</td>\n",
       "      <td>1</td>\n",
       "    </tr>\n",
       "    <tr>\n",
       "      <th>3</th>\n",
       "      <td>6</td>\n",
       "      <td>8</td>\n",
       "      <td>8</td>\n",
       "      <td>1</td>\n",
       "      <td>3</td>\n",
       "      <td>4</td>\n",
       "      <td>3</td>\n",
       "      <td>7</td>\n",
       "      <td>1</td>\n",
       "      <td>1</td>\n",
       "    </tr>\n",
       "    <tr>\n",
       "      <th>4</th>\n",
       "      <td>4</td>\n",
       "      <td>1</td>\n",
       "      <td>1</td>\n",
       "      <td>3</td>\n",
       "      <td>2</td>\n",
       "      <td>1</td>\n",
       "      <td>3</td>\n",
       "      <td>1</td>\n",
       "      <td>1</td>\n",
       "      <td>1</td>\n",
       "    </tr>\n",
       "  </tbody>\n",
       "</table>\n",
       "</div>"
      ],
      "text/plain": [
       "   Feature1  Feature2  Feature3  Feature4  Feature5  Feature6  Feature7  \\\n",
       "0         5         1         1         1         2         1         3   \n",
       "1         5         4         4         5         7        10         3   \n",
       "2         3         1         1         1         2         2         3   \n",
       "3         6         8         8         1         3         4         3   \n",
       "4         4         1         1         3         2         1         3   \n",
       "\n",
       "   Feature8  Feature9  Label  \n",
       "0         1         1      1  \n",
       "1         2         1      1  \n",
       "2         1         1      1  \n",
       "3         7         1      1  \n",
       "4         1         1      1  "
      ]
     },
     "execution_count": 3,
     "metadata": {},
     "output_type": "execute_result"
    }
   ],
   "source": [
    "df_norm = df[df['Label']==1]\n",
    "df_norm.head()"
   ]
  },
  {
   "cell_type": "code",
   "execution_count": 4,
   "metadata": {},
   "outputs": [
    {
     "data": {
      "text/html": [
       "<div>\n",
       "<style scoped>\n",
       "    .dataframe tbody tr th:only-of-type {\n",
       "        vertical-align: middle;\n",
       "    }\n",
       "\n",
       "    .dataframe tbody tr th {\n",
       "        vertical-align: top;\n",
       "    }\n",
       "\n",
       "    .dataframe thead th {\n",
       "        text-align: right;\n",
       "    }\n",
       "</style>\n",
       "<table border=\"1\" class=\"dataframe\">\n",
       "  <thead>\n",
       "    <tr style=\"text-align: right;\">\n",
       "      <th></th>\n",
       "      <th>Feature1</th>\n",
       "      <th>Feature2</th>\n",
       "      <th>Feature3</th>\n",
       "      <th>Feature4</th>\n",
       "      <th>Feature5</th>\n",
       "      <th>Feature6</th>\n",
       "      <th>Feature7</th>\n",
       "      <th>Feature8</th>\n",
       "      <th>Feature9</th>\n",
       "      <th>Label</th>\n",
       "    </tr>\n",
       "  </thead>\n",
       "  <tbody>\n",
       "    <tr>\n",
       "      <th>15</th>\n",
       "      <td>7</td>\n",
       "      <td>3</td>\n",
       "      <td>2</td>\n",
       "      <td>10</td>\n",
       "      <td>5</td>\n",
       "      <td>10</td>\n",
       "      <td>5</td>\n",
       "      <td>4</td>\n",
       "      <td>4</td>\n",
       "      <td>-1</td>\n",
       "    </tr>\n",
       "    <tr>\n",
       "      <th>28</th>\n",
       "      <td>2</td>\n",
       "      <td>5</td>\n",
       "      <td>3</td>\n",
       "      <td>3</td>\n",
       "      <td>6</td>\n",
       "      <td>7</td>\n",
       "      <td>7</td>\n",
       "      <td>5</td>\n",
       "      <td>1</td>\n",
       "      <td>-1</td>\n",
       "    </tr>\n",
       "    <tr>\n",
       "      <th>32</th>\n",
       "      <td>7</td>\n",
       "      <td>8</td>\n",
       "      <td>7</td>\n",
       "      <td>2</td>\n",
       "      <td>4</td>\n",
       "      <td>8</td>\n",
       "      <td>3</td>\n",
       "      <td>8</td>\n",
       "      <td>2</td>\n",
       "      <td>-1</td>\n",
       "    </tr>\n",
       "    <tr>\n",
       "      <th>33</th>\n",
       "      <td>10</td>\n",
       "      <td>6</td>\n",
       "      <td>6</td>\n",
       "      <td>3</td>\n",
       "      <td>4</td>\n",
       "      <td>5</td>\n",
       "      <td>3</td>\n",
       "      <td>6</td>\n",
       "      <td>1</td>\n",
       "      <td>-1</td>\n",
       "    </tr>\n",
       "    <tr>\n",
       "      <th>35</th>\n",
       "      <td>9</td>\n",
       "      <td>10</td>\n",
       "      <td>10</td>\n",
       "      <td>1</td>\n",
       "      <td>10</td>\n",
       "      <td>8</td>\n",
       "      <td>3</td>\n",
       "      <td>3</td>\n",
       "      <td>1</td>\n",
       "      <td>-1</td>\n",
       "    </tr>\n",
       "  </tbody>\n",
       "</table>\n",
       "</div>"
      ],
      "text/plain": [
       "    Feature1  Feature2  Feature3  Feature4  Feature5  Feature6  Feature7  \\\n",
       "15         7         3         2        10         5        10         5   \n",
       "28         2         5         3         3         6         7         7   \n",
       "32         7         8         7         2         4         8         3   \n",
       "33        10         6         6         3         4         5         3   \n",
       "35         9        10        10         1        10         8         3   \n",
       "\n",
       "    Feature8  Feature9  Label  \n",
       "15         4         4     -1  \n",
       "28         5         1     -1  \n",
       "32         8         2     -1  \n",
       "33         6         1     -1  \n",
       "35         3         1     -1  "
      ]
     },
     "execution_count": 4,
     "metadata": {},
     "output_type": "execute_result"
    }
   ],
   "source": [
    "df_anom = df[df['Label']== -1]\n",
    "df_anom.head()"
   ]
  },
  {
   "cell_type": "code",
   "execution_count": 5,
   "metadata": {},
   "outputs": [
    {
     "name": "stdout",
     "output_type": "stream",
     "text": [
      "(444, 10)\n",
      "(39, 10)\n"
     ]
    }
   ],
   "source": [
    "ds_norm = df_norm.values\n",
    "ds_anom = df_anom.values\n",
    "print(ds_norm.shape)\n",
    "print(ds_anom.shape)"
   ]
  },
  {
   "cell_type": "markdown",
   "metadata": {},
   "source": [
    "## Train Test split"
   ]
  },
  {
   "cell_type": "code",
   "execution_count": 6,
   "metadata": {},
   "outputs": [
    {
     "name": "stdout",
     "output_type": "stream",
     "text": [
      "(400, 9)\n",
      "(400, 1)\n"
     ]
    }
   ],
   "source": [
    "X_train = ds_norm[:400, :-1]\n",
    "Y_train = ds_norm[:400, -1]\n",
    "Y_train = Y_train.reshape(-1, 1)\n",
    "print(X_train.shape)\n",
    "print(Y_train.shape)"
   ]
  },
  {
   "cell_type": "code",
   "execution_count": 7,
   "metadata": {},
   "outputs": [],
   "source": [
    "x_test = ds_norm[400:, :-1]\n",
    "y_test = ds_norm[400: , -1]\n",
    "y_test = y_test.reshape(-1, 1)\n",
    "x_anom = ds_anom[:, :-1]\n",
    "y_anom = ds_anom[:, -1]\n",
    "# X_test = np.stack((X_test, ds_anom[:, :-1]), axis=0)\n",
    "# Y_test = np.stack((Y_test, ds_anom[:, -1]), axis=0)\n",
    "# print(X_test.shape, Y_test.shape)"
   ]
  },
  {
   "cell_type": "code",
   "execution_count": 8,
   "metadata": {},
   "outputs": [
    {
     "name": "stdout",
     "output_type": "stream",
     "text": [
      "(400, 9) (400, 1)\n",
      "(83, 9) (83, 1)\n"
     ]
    }
   ],
   "source": [
    "y_anom = y_anom.reshape(-1, 1)\n",
    "X_test = np.vstack((x_test,x_anom))\n",
    "Y_test = np.vstack((y_test, y_anom))\n",
    "print(X_train.shape, Y_train.shape)\n",
    "print(X_test.shape, Y_test.shape)"
   ]
  },
  {
   "cell_type": "markdown",
   "metadata": {},
   "source": [
    "## Model"
   ]
  },
  {
   "cell_type": "code",
   "execution_count": 218,
   "metadata": {},
   "outputs": [],
   "source": [
    "# CHECK : Constants\n",
    "omega = 1.\n",
    "\n",
    "class ELM(object):\n",
    "    def __init__(self, sess, batch_size, input_len, hidden_num, output_len, W, b):\n",
    "        '''\n",
    "        Args:\n",
    "          sess : TensorFlow session.\n",
    "          batch_size : The batch size (N)\n",
    "          input_len : The length of input. (L)\n",
    "          hidden_num : The number of hidden node. (K)\n",
    "          output_len : The length of output. (O)\n",
    "          W : randomly initialized weights\n",
    "          b : randomly initialized bias\n",
    "        '''\n",
    "    \n",
    "        self._sess = sess \n",
    "        self._batch_size = batch_size\n",
    "        self._input_len = input_len\n",
    "        self._hidden_num = hidden_num\n",
    "        self._output_len = output_len \n",
    "\n",
    "        # for train\n",
    "        self._x0 = tf.placeholder(tf.float32, [self._batch_size, self._input_len])\n",
    "        self._t0 = tf.placeholder(tf.float32, [self._batch_size, self._output_len])\n",
    "\n",
    "        # for test\n",
    "        self._x1 = tf.placeholder(tf.float32, [None, self._input_len])\n",
    "        self._t1 = tf.placeholder(tf.float32, [None, self._output_len])\n",
    "\n",
    "#         self._W = tf.Variable(\n",
    "#           tf.random_normal([self._input_len, self._hidden_num]),\n",
    "#           trainable=False, dtype=tf.float32)\n",
    "#         self._b = tf.Variable(\n",
    "#           tf.random_normal([self._hidden_num]),\n",
    "#           trainable=False, dtype=tf.float32)\n",
    "\n",
    "        ## Wts initialisation\n",
    "        self._W = W\n",
    "        self._b = b\n",
    "        \n",
    "        self._beta = tf.Variable(\n",
    "          tf.zeros([self._hidden_num, self._output_len]),\n",
    "          trainable=False, dtype=tf.float32)\n",
    "        self._var_list = [self._W, self._b, self._beta]\n",
    "\n",
    "        self.H0 = tf.matmul(self._x0, self._W) + self._b # N x L\n",
    "        self.H0_T = tf.transpose(self.H0)\n",
    "\n",
    "        self.H1 = tf.matmul(self._x1, self._W) + self._b # N x L\n",
    "        self.H1_T = tf.transpose(self.H1)\n",
    "\n",
    "        # beta analytic solution : self._beta_s (K x O)\n",
    "        if self._input_len < self._hidden_num: # L < K\n",
    "            identity = tf.constant(np.identity(self._hidden_num), dtype=tf.float32)\n",
    "            self._beta_s = tf.matmul(tf.matmul(tf.matrix_inverse(\n",
    "                tf.matmul(self.H0_T, self.H0) + identity/omega), \n",
    "                self.H0_T), self._t0)\n",
    "          # _beta_s = (H_T*H + I/om)^(-1)*H_T*T\n",
    "        else:\n",
    "            identity = tf.constant(np.identity(self._batch_size), dtype=tf.float32)\n",
    "            self._beta_s = tf.matmul(tf.matmul(self.H0_T, tf.matrix_inverse(\n",
    "                tf.matmul(self.H0, self.H0_T)+identity/omega)), self._t0)\n",
    "          # _beta_s = H_T*(H*H_T + I/om)^(-1)*T\n",
    "\n",
    "        self._assign_beta = self._beta.assign(self._beta_s)\n",
    "        self._fx0 = tf.matmul(self.H0, self._beta)\n",
    "        self._fx1 = tf.matmul(self.H1, self._beta)\n",
    "\n",
    "        self._cost = tf.reduce_mean(tf.cast(tf.losses.mean_squared_error(labels=self._t0, predictions=self._fx0), tf.float32))\n",
    "                                        \n",
    "        self._init = False\n",
    "        self._feed = False\n",
    "\n",
    "        # Cost for every sample point\n",
    "#         self._correct_prediction = tf.equal(tf.argmax(self._fx1,1), tf.argmax(self._t1,1))\n",
    "#         self._accuracy = tf.reduce_mean(tf.cast(self._correct_prediction, tf.float32))\n",
    "        self._testcost = tf.cast(tf.losses.mean_squared_error(labels=self._t1, predictions=self._fx1), tf.float32)\n",
    "\n",
    "\n",
    "    def feed(self, x, t):\n",
    "        '''\n",
    "        Args :\n",
    "          x : input array (N x L)\n",
    "          t : label array (N x O)\n",
    "        '''\n",
    "\n",
    "        if not self._init : self.init()\n",
    "        self._sess.run(self._assign_beta, {self._x0:x, self._t0:t})\n",
    "#         print(self._sess.run(self._cost, {self._x0:x, self._t0:t}))\n",
    "        \n",
    "        self._feed = True\n",
    "\n",
    "    def init(self):\n",
    "        self._sess.run(tf.initialize_variables(self._var_list))\n",
    "        self._init = True\n",
    "\n",
    "    def test(self, x, t=None):\n",
    "        if not self._feed : exit(\"Not feed-forward trained\")\n",
    "        if t is not None :\n",
    "#             print(\"Accuracy: {:.9f}\".format(self._sess.run(self._accuracy, {self._x1:x, self._t1:t})))\n",
    "            return self._sess.run(self._testcost, {self._x1:x, self._t1:t})\n",
    "            \n",
    "        else :\n",
    "            return self._sess.run(self._fx1, {self._x1:x})\n"
   ]
  },
  {
   "cell_type": "markdown",
   "metadata": {},
   "source": [
    "## Initializing parameters"
   ]
  },
  {
   "cell_type": "code",
   "execution_count": 219,
   "metadata": {},
   "outputs": [
    {
     "name": "stdout",
     "output_type": "stream",
     "text": [
      "batch_size : 400\n",
      "hidden_num : 150\n"
     ]
    }
   ],
   "source": [
    "sess = tf.Session()\n",
    "batch_size = X_train.shape[0]\n",
    "hidden_num = 150\n",
    "input_len = X_train.shape[1]\n",
    "print(\"batch_size : {}\".format(batch_size))\n",
    "print(\"hidden_num : {}\".format(hidden_num))\n",
    "W = tf.Variable(\n",
    "  tf.random_normal([input_len, hidden_num]),\n",
    "  trainable=False, dtype=tf.float32)\n",
    "b = tf.Variable(\n",
    "  tf.random_normal([hidden_num]),\n",
    "  trainable=False, dtype=tf.float32)"
   ]
  },
  {
   "cell_type": "markdown",
   "metadata": {},
   "source": [
    "## Initializing list of W and b"
   ]
  },
  {
   "cell_type": "code",
   "execution_count": 220,
   "metadata": {},
   "outputs": [
    {
     "name": "stdout",
     "output_type": "stream",
     "text": [
      "10\n"
     ]
    }
   ],
   "source": [
    "init_list = []\n",
    "for i in range(10):\n",
    "        init_list.append((tf.Variable(tf.random_normal([input_len, hidden_num],seed=i),trainable=False, dtype=tf.float32),tf.Variable(tf.random_normal([hidden_num], seed=i),trainable=False, dtype=tf.float32)))\n",
    "print(len(init_list))\n",
    "# tf.Session().run(init_list[0][0])\n",
    "# tf.Session().run(init_list[0][1])"
   ]
  },
  {
   "cell_type": "markdown",
   "metadata": {},
   "source": [
    "## Accuracy function"
   ]
  },
  {
   "cell_type": "code",
   "execution_count": 221,
   "metadata": {},
   "outputs": [],
   "source": [
    "def accuracy(anom_pred):\n",
    "    cnt = 0\n",
    "    for pt in anom_pred:\n",
    "        if pt[1]>=44 and pt[1]<83:\n",
    "            cnt+=1\n",
    "    return (cnt/float(39))*100"
   ]
  },
  {
   "cell_type": "markdown",
   "metadata": {},
   "source": [
    "## Evaluation"
   ]
  },
  {
   "cell_type": "code",
   "execution_count": 222,
   "metadata": {},
   "outputs": [],
   "source": [
    "\n",
    "results = {}\n",
    "itr = 0\n",
    "best_W = tf.Variable(tf.zeros([input_len,hidden_num]))\n",
    "best_b = tf.Variable(tf.zeros([hidden_num]))\n",
    "best_acc = 0.0\n",
    "best_acc_idx = 0\n",
    "\n",
    "for W,b in init_list:\n",
    "    ## feed W,b from list and evaluate error and accuracy corresponding to them\n",
    "    elm = ELM(sess, batch_size, input_len, hidden_num, input_len, W, b)\n",
    "    train_x, train_y = (X_train[:batch_size], X_train[:batch_size])\n",
    "\n",
    "    elm.feed(train_x, train_y)\n",
    "    \n",
    "    ## error list\n",
    "    err = []\n",
    "    for idx,test_pt in enumerate(X_test):\n",
    "        x = test_pt.reshape(1,-1)\n",
    "        err.append((elm.test(x, x), idx))\n",
    "    \n",
    "    err.sort(reverse=True)\n",
    "    \n",
    "    anom_pred = err[:39]\n",
    "    \n",
    "    acc = accuracy(anom_pred) \n",
    "    \n",
    "    results[itr] = [(err,acc)]\n",
    "    itr += 1\n",
    "    if acc>best_acc:\n",
    "        best_W = W\n",
    "        best_b = b\n",
    "        best_acc = acc\n",
    "        best_acc_idx = itr-1\n",
    "    \n"
   ]
  },
  {
   "cell_type": "code",
   "execution_count": 223,
   "metadata": {},
   "outputs": [
    {
     "name": "stdout",
     "output_type": "stream",
     "text": [
      "82.05128205128204\n",
      "89.74358974358975\n",
      "92.3076923076923\n",
      "89.74358974358975\n",
      "94.87179487179486\n",
      "94.87179487179486\n",
      "92.3076923076923\n",
      "84.61538461538461\n",
      "94.87179487179486\n",
      "94.87179487179486\n"
     ]
    }
   ],
   "source": [
    "for k in results.keys():\n",
    "    print(results[k][0][1])"
   ]
  },
  {
   "cell_type": "code",
   "execution_count": 224,
   "metadata": {},
   "outputs": [],
   "source": [
    "err = results[best_acc_idx][0][0]"
   ]
  },
  {
   "cell_type": "code",
   "execution_count": 225,
   "metadata": {
    "scrolled": true
   },
   "outputs": [
    {
     "data": {
      "text/plain": [
       "[(1.8630632, 50),\n",
       " (1.2596974, 55),\n",
       " (1.1513715, 82),\n",
       " (0.66143805, 67),\n",
       " (0.637933, 51),\n",
       " (0.5319077, 58),\n",
       " (0.5032474, 81),\n",
       " (0.48688602, 38),\n",
       " (0.40543586, 52),\n",
       " (0.389993, 72),\n",
       " (0.37913495, 80),\n",
       " (0.29337943, 44),\n",
       " (0.26608962, 57),\n",
       " (0.24143545, 62),\n",
       " (0.23388849, 65),\n",
       " (0.19759238, 48),\n",
       " (0.17609438, 60),\n",
       " (0.1344976, 70),\n",
       " (0.1115113, 74),\n",
       " (0.100261986, 61),\n",
       " (0.09782655, 73),\n",
       " (0.096419536, 77),\n",
       " (0.09556071, 54),\n",
       " (0.093004376, 78),\n",
       " (0.0682386, 12),\n",
       " (0.058981743, 56),\n",
       " (0.058966074, 49),\n",
       " (0.052501775, 59),\n",
       " (0.049479723, 45),\n",
       " (0.048087224, 53),\n",
       " (0.04790797, 46),\n",
       " (0.045545164, 71),\n",
       " (0.035407744, 79),\n",
       " (0.033531435, 47),\n",
       " (0.03324996, 63),\n",
       " (0.031238053, 76),\n",
       " (0.0258771, 68),\n",
       " (0.021329258, 69),\n",
       " (0.016137006, 66),\n",
       " (0.011336966, 64),\n",
       " (0.011178418, 20),\n",
       " (0.008704764, 41),\n",
       " (0.0071828077, 35),\n",
       " (0.0071828077, 34),\n",
       " (0.0071828077, 33),\n",
       " (0.0071828077, 32),\n",
       " (0.0071828077, 29),\n",
       " (0.0071828077, 19),\n",
       " (0.0071828077, 13),\n",
       " (0.0068636895, 39),\n",
       " (0.0068636895, 3),\n",
       " (0.0064335386, 2),\n",
       " (0.0059956107, 75),\n",
       " (0.004483236, 43),\n",
       " (0.004483236, 30),\n",
       " (0.004483236, 0),\n",
       " (0.0034627581, 6),\n",
       " (0.00304604, 25),\n",
       " (0.00304604, 14),\n",
       " (0.0024343012, 40),\n",
       " (0.0021789782, 27),\n",
       " (0.0017593828, 36),\n",
       " (0.0015464383, 17),\n",
       " (0.0015464383, 16),\n",
       " (0.0013951279, 31),\n",
       " (0.0010360061, 37),\n",
       " (0.0009398868, 15),\n",
       " (0.00090898084, 24),\n",
       " (0.00059859734, 5),\n",
       " (0.00040897718, 10),\n",
       " (0.00040897718, 4),\n",
       " (0.00040897718, 1),\n",
       " (0.00037445626, 11),\n",
       " (0.00037096854, 18),\n",
       " (0.00028833825, 28),\n",
       " (0.00028542287, 22),\n",
       " (0.00022674461, 21),\n",
       " (0.00022674461, 9),\n",
       " (0.00021482591, 42),\n",
       " (0.00018160105, 26),\n",
       " (0.00016423856, 23),\n",
       " (0.00011733159, 7),\n",
       " (6.639492e-05, 8)]"
      ]
     },
     "execution_count": 225,
     "metadata": {},
     "output_type": "execute_result"
    }
   ],
   "source": [
    "err"
   ]
  },
  {
   "cell_type": "code",
   "execution_count": 226,
   "metadata": {},
   "outputs": [],
   "source": [
    "err_array = np.array(err)"
   ]
  },
  {
   "cell_type": "code",
   "execution_count": 227,
   "metadata": {},
   "outputs": [
    {
     "data": {
      "image/png": "[encoded data removed]",
      "text/plain": [
       "<Figure size 432x288 with 1 Axes>"
      ]
     },
     "metadata": {
      "needs_background": "light"
     },
     "output_type": "display_data"
    }
   ],
   "source": [
    "plt.bar(err_array[:,1], err_array[:,0])\n",
    "plt.show()"
   ]
  },
  {
   "cell_type": "code",
   "execution_count": 228,
   "metadata": {},
   "outputs": [
    {
     "name": "stdout",
     "output_type": "stream",
     "text": [
      "(9, 150)\n",
      "(150,)\n",
      "94.87179487179486\n"
     ]
    }
   ],
   "source": [
    "W_final = best_W.eval(session=sess)\n",
    "b_final = best_b.eval(session=sess)\n",
    "print(W_final.shape)\n",
    "print(b_final.shape)\n",
    "print(best_acc)"
   ]
  },
  {
   "cell_type": "code",
   "execution_count": 9,
   "metadata": {},
   "outputs": [],
   "source": [
    "## One class SVM"
   ]
  },
  {
   "cell_type": "code",
   "execution_count": 51,
   "metadata": {},
   "outputs": [
    {
     "data": {
      "text/plain": [
       "OneClassSVM(cache_size=200, coef0=0.0, degree=3, gamma='auto', kernel='rbf',\n",
       "      max_iter=-1, nu=0.5, random_state=None, shrinking=True, tol=0.001,\n",
       "      verbose=False)"
      ]
     },
     "execution_count": 51,
     "metadata": {},
     "output_type": "execute_result"
    }
   ],
   "source": [
    "from sklearn.svm import OneClassSVM\n",
    "ocSVM = OneClassSVM()\n",
    "ocSVM.fit(X_train)"
   ]
  },
  {
   "cell_type": "code",
   "execution_count": 52,
   "metadata": {},
   "outputs": [],
   "source": [
    "pred = ocSVM.predict(X_test)"
   ]
  },
  {
   "cell_type": "code",
   "execution_count": 53,
   "metadata": {},
   "outputs": [],
   "source": [
    "# pred[pred==1] = 0\n",
    "# pred[pred==-1] = 1"
   ]
  },
  {
   "cell_type": "code",
   "execution_count": 55,
   "metadata": {},
   "outputs": [
    {
     "data": {
      "text/plain": [
       "array([ 1,  1, -1, -1,  1, -1, -1,  1,  1,  1,  1,  1, -1,  1,  1,  1, -1,\n",
       "       -1, -1,  1, -1,  1,  1,  1, -1,  1, -1,  1, -1,  1,  1, -1,  1,  1,\n",
       "        1,  1, -1,  1, -1, -1,  1,  1, -1,  1, -1, -1, -1, -1, -1, -1, -1,\n",
       "       -1, -1, -1, -1, -1, -1, -1, -1, -1, -1, -1, -1, -1, -1, -1, -1, -1,\n",
       "       -1, -1, -1, -1, -1, -1, -1, -1, -1, -1, -1, -1, -1, -1, -1],\n",
       "      dtype=int64)"
      ]
     },
     "execution_count": 55,
     "metadata": {},
     "output_type": "execute_result"
    }
   ],
   "source": [
    "pred"
   ]
  },
  {
   "cell_type": "code",
   "execution_count": 54,
   "metadata": {},
   "outputs": [
    {
     "data": {
      "text/plain": [
       "40.626506024096386"
      ]
     },
     "execution_count": 54,
     "metadata": {},
     "output_type": "execute_result"
    }
   ],
   "source": [
    "acc = np.sum(pred == Y_test)/X_test.shape[0]\n",
    "acc"
   ]
  },
  {
   "cell_type": "code",
   "execution_count": 14,
   "metadata": {},
   "outputs": [],
   "source": [
    "## Data preparation for clustering algorithms"
   ]
  },
  {
   "cell_type": "code",
   "execution_count": 15,
   "metadata": {},
   "outputs": [
    {
     "data": {
      "text/plain": [
       "(483, 9)"
      ]
     },
     "execution_count": 15,
     "metadata": {},
     "output_type": "execute_result"
    }
   ],
   "source": [
    "samples = X_train.shape[0]+X_test.shape[0]\n",
    "X = np.zeros((samples,X_train.shape[1]))\n",
    "X[:X_train.shape[0], :] = X_train[:, :]\n",
    "X[X_train.shape[0]:, :] = X_test[:, :]\n",
    "X.shape"
   ]
  },
  {
   "cell_type": "code",
   "execution_count": 17,
   "metadata": {},
   "outputs": [
    {
     "data": {
      "text/plain": [
       "(483,)"
      ]
     },
     "execution_count": 17,
     "metadata": {},
     "output_type": "execute_result"
    }
   ],
   "source": [
    "Y = np.zeros(samples,)\n",
    "\n",
    "Y[:Y_train.shape[0]] = Y_train.reshape((-1,))\n",
    "Y[Y_train.shape[0]:] = Y_test.reshape((-1,))\n",
    "Y.shape"
   ]
  },
  {
   "cell_type": "code",
   "execution_count": 18,
   "metadata": {},
   "outputs": [],
   "source": [
    "## DBSCAN"
   ]
  },
  {
   "cell_type": "code",
   "execution_count": 19,
   "metadata": {},
   "outputs": [],
   "source": [
    "from sklearn.cluster import DBSCAN"
   ]
  },
  {
   "cell_type": "code",
   "execution_count": 47,
   "metadata": {},
   "outputs": [],
   "source": [
    "dbscan = DBSCAN(eps=1.0)\n",
    "pred = dbscan.fit_predict(X)\n",
    "pred[pred==0] = 1"
   ]
  },
  {
   "cell_type": "code",
   "execution_count": 49,
   "metadata": {},
   "outputs": [
    {
     "data": {
      "text/plain": [
       "0.7660455486542443"
      ]
     },
     "execution_count": 49,
     "metadata": {},
     "output_type": "execute_result"
    }
   ],
   "source": [
    "acc = np.sum(pred==Y)/Y.shape[0]\n",
    "acc"
   ]
  },
  {
   "cell_type": "code",
   "execution_count": 50,
   "metadata": {},
   "outputs": [],
   "source": [
    "## LOF"
   ]
  },
  {
   "cell_type": "code",
   "execution_count": 60,
   "metadata": {},
   "outputs": [
    {
     "name": "stderr",
     "output_type": "stream",
     "text": [
      "c:\\users\\asus\\appdata\\local\\programs\\python\\python36\\lib\\site-packages\\scipy\\stats\\stats.py:1713: FutureWarning: Using a non-tuple sequence for multidimensional indexing is deprecated; use `arr[tuple(seq)]` instead of `arr[seq]`. In the future this will be interpreted as an array index, `arr[np.array(seq)]`, which will result either in an error or a different result.\n",
      "  return np.add.reduce(sorted[indexer] * weights, axis=axis) / sumval\n"
     ]
    }
   ],
   "source": [
    "from sklearn.neighbors import LocalOutlierFactor\n",
    "lof = LocalOutlierFactor()\n",
    "pred = lof.fit_predict(X)"
   ]
  },
  {
   "cell_type": "code",
   "execution_count": 61,
   "metadata": {},
   "outputs": [
    {
     "data": {
      "text/plain": [
       "0.8053830227743272"
      ]
     },
     "execution_count": 61,
     "metadata": {},
     "output_type": "execute_result"
    }
   ],
   "source": [
    "acc = np.sum(pred==Y)/Y.shape[0]\n",
    "acc"
   ]
  },
  {
   "cell_type": "markdown",
   "metadata": {},
   "source": [
    "## Accuracy in percentage\n",
    "    ELM: 94.87\n",
    "    One Class SVM: 40.62\n",
    "    DBSCAN: 76.60\n",
    "    LOF: 80.53"
   ]
  },
  {
   "cell_type": "code",
   "execution_count": null,
   "metadata": {},
   "outputs": [],
   "source": []
  }
 ],
 "metadata": {
  "kernelspec": {
   "display_name": "Python 3",
   "language": "python",
   "name": "python3"
  },
  "language_info": {
   "codemirror_mode": {
    "name": "ipython",
    "version": 3
   },
   "file_extension": ".py",
   "mimetype": "text/x-python",
   "name": "python",
   "nbconvert_exporter": "python",
   "pygments_lexer": "ipython3",
   "version": "3.6.5"
  }
 },
 "nbformat": 4,
 "nbformat_minor": 2
}
