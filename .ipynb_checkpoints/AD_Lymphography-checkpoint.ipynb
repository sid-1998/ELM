{
 "cells": [
  {
   "cell_type": "code",
   "execution_count": 42,
   "metadata": {},
   "outputs": [],
   "source": [
    "import numpy as np\n",
    "import pandas as pd\n",
    "import matplotlib.pyplot as plt"
   ]
  },
  {
   "cell_type": "markdown",
   "metadata": {},
   "source": [
    "## Data Preparation"
   ]
  },
  {
   "cell_type": "code",
   "execution_count": 43,
   "metadata": {},
   "outputs": [
    {
     "data": {
      "text/html": [
       "<div>\n",
       "<style scoped>\n",
       "    .dataframe tbody tr th:only-of-type {\n",
       "        vertical-align: middle;\n",
       "    }\n",
       "\n",
       "    .dataframe tbody tr th {\n",
       "        vertical-align: top;\n",
       "    }\n",
       "\n",
       "    .dataframe thead th {\n",
       "        text-align: right;\n",
       "    }\n",
       "</style>\n",
       "<table border=\"1\" class=\"dataframe\">\n",
       "  <thead>\n",
       "    <tr style=\"text-align: right;\">\n",
       "      <th></th>\n",
       "      <th>F1</th>\n",
       "      <th>F2</th>\n",
       "      <th>F3</th>\n",
       "      <th>F4</th>\n",
       "      <th>F5</th>\n",
       "      <th>F6</th>\n",
       "      <th>F7</th>\n",
       "      <th>F8</th>\n",
       "      <th>F9</th>\n",
       "      <th>F10</th>\n",
       "      <th>F11</th>\n",
       "      <th>F12</th>\n",
       "      <th>F13</th>\n",
       "      <th>F14</th>\n",
       "      <th>F15</th>\n",
       "      <th>F16</th>\n",
       "      <th>F17</th>\n",
       "      <th>F18</th>\n",
       "      <th>Label</th>\n",
       "    </tr>\n",
       "  </thead>\n",
       "  <tbody>\n",
       "    <tr>\n",
       "      <th>0</th>\n",
       "      <td>2</td>\n",
       "      <td>2</td>\n",
       "      <td>1</td>\n",
       "      <td>1</td>\n",
       "      <td>1</td>\n",
       "      <td>1</td>\n",
       "      <td>1</td>\n",
       "      <td>2</td>\n",
       "      <td>1</td>\n",
       "      <td>4</td>\n",
       "      <td>3</td>\n",
       "      <td>4</td>\n",
       "      <td>2</td>\n",
       "      <td>7</td>\n",
       "      <td>3</td>\n",
       "      <td>2</td>\n",
       "      <td>2</td>\n",
       "      <td>5</td>\n",
       "      <td>3</td>\n",
       "    </tr>\n",
       "    <tr>\n",
       "      <th>1</th>\n",
       "      <td>4</td>\n",
       "      <td>2</td>\n",
       "      <td>1</td>\n",
       "      <td>1</td>\n",
       "      <td>2</td>\n",
       "      <td>2</td>\n",
       "      <td>1</td>\n",
       "      <td>2</td>\n",
       "      <td>1</td>\n",
       "      <td>3</td>\n",
       "      <td>3</td>\n",
       "      <td>4</td>\n",
       "      <td>2</td>\n",
       "      <td>5</td>\n",
       "      <td>3</td>\n",
       "      <td>2</td>\n",
       "      <td>2</td>\n",
       "      <td>3</td>\n",
       "      <td>3</td>\n",
       "    </tr>\n",
       "    <tr>\n",
       "      <th>2</th>\n",
       "      <td>3</td>\n",
       "      <td>1</td>\n",
       "      <td>1</td>\n",
       "      <td>1</td>\n",
       "      <td>2</td>\n",
       "      <td>2</td>\n",
       "      <td>2</td>\n",
       "      <td>1</td>\n",
       "      <td>3</td>\n",
       "      <td>1</td>\n",
       "      <td>1</td>\n",
       "      <td>2</td>\n",
       "      <td>1</td>\n",
       "      <td>5</td>\n",
       "      <td>3</td>\n",
       "      <td>1</td>\n",
       "      <td>1</td>\n",
       "      <td>7</td>\n",
       "      <td>4</td>\n",
       "    </tr>\n",
       "    <tr>\n",
       "      <th>3</th>\n",
       "      <td>2</td>\n",
       "      <td>1</td>\n",
       "      <td>1</td>\n",
       "      <td>1</td>\n",
       "      <td>1</td>\n",
       "      <td>2</td>\n",
       "      <td>1</td>\n",
       "      <td>2</td>\n",
       "      <td>1</td>\n",
       "      <td>2</td>\n",
       "      <td>2</td>\n",
       "      <td>3</td>\n",
       "      <td>3</td>\n",
       "      <td>3</td>\n",
       "      <td>3</td>\n",
       "      <td>1</td>\n",
       "      <td>2</td>\n",
       "      <td>1</td>\n",
       "      <td>3</td>\n",
       "    </tr>\n",
       "    <tr>\n",
       "      <th>4</th>\n",
       "      <td>2</td>\n",
       "      <td>1</td>\n",
       "      <td>1</td>\n",
       "      <td>1</td>\n",
       "      <td>1</td>\n",
       "      <td>1</td>\n",
       "      <td>1</td>\n",
       "      <td>1</td>\n",
       "      <td>1</td>\n",
       "      <td>2</td>\n",
       "      <td>3</td>\n",
       "      <td>3</td>\n",
       "      <td>3</td>\n",
       "      <td>8</td>\n",
       "      <td>3</td>\n",
       "      <td>1</td>\n",
       "      <td>1</td>\n",
       "      <td>1</td>\n",
       "      <td>2</td>\n",
       "    </tr>\n",
       "  </tbody>\n",
       "</table>\n",
       "</div>"
      ],
      "text/plain": [
       "   F1  F2  F3  F4  F5  F6  F7  F8  F9  F10  F11  F12  F13  F14  F15  F16  F17  \\\n",
       "0   2   2   1   1   1   1   1   2   1    4    3    4    2    7    3    2    2   \n",
       "1   4   2   1   1   2   2   1   2   1    3    3    4    2    5    3    2    2   \n",
       "2   3   1   1   1   2   2   2   1   3    1    1    2    1    5    3    1    1   \n",
       "3   2   1   1   1   1   2   1   2   1    2    2    3    3    3    3    1    2   \n",
       "4   2   1   1   1   1   1   1   1   1    2    3    3    3    8    3    1    1   \n",
       "\n",
       "   F18  Label  \n",
       "0    5      3  \n",
       "1    3      3  \n",
       "2    7      4  \n",
       "3    1      3  \n",
       "4    1      2  "
      ]
     },
     "execution_count": 43,
     "metadata": {},
     "output_type": "execute_result"
    }
   ],
   "source": [
    "df = pd.read_csv(\"./datasets/lymphography.csv\")\n",
    "df.head()"
   ]
  },
  {
   "cell_type": "code",
   "execution_count": 44,
   "metadata": {},
   "outputs": [
    {
     "name": "stdout",
     "output_type": "stream",
     "text": [
      "(array([1, 2, 3, 4], dtype=int64), array([ 2, 67, 46, 33], dtype=int64))\n",
      "(array([1, 2], dtype=int64), array([66, 82], dtype=int64))\n",
      "(array([1, 2], dtype=int64), array([122,  26], dtype=int64))\n",
      "(array([1, 2], dtype=int64), array([141,   7], dtype=int64))\n",
      "(array([1, 2], dtype=int64), array([112,  36], dtype=int64))\n",
      "(array([1, 2], dtype=int64), array([73, 75], dtype=int64))\n",
      "(array([1, 2], dtype=int64), array([138,  10], dtype=int64))\n",
      "(array([1, 2], dtype=int64), array([ 44, 104], dtype=int64))\n",
      "(array([1, 2, 3], dtype=int64), array([142,   3,   3], dtype=int64))\n",
      "(array([1, 2, 3, 4], dtype=int64), array([13, 72, 43, 20], dtype=int64))\n",
      "(array([1, 2, 3], dtype=int64), array([ 6, 77, 65], dtype=int64))\n",
      "(array([1, 2, 3, 4], dtype=int64), array([ 3, 49, 46, 50], dtype=int64))\n",
      "(array([1, 2, 3, 4], dtype=int64), array([ 6, 42, 75, 25], dtype=int64))\n",
      "(array([1, 2, 3, 4, 5, 6, 7, 8], dtype=int64), array([ 2, 14, 19, 31, 28,  2,  7, 45], dtype=int64))\n",
      "(array([1, 2, 3], dtype=int64), array([28, 43, 77], dtype=int64))\n",
      "(array([1, 2], dtype=int64), array([50, 98], dtype=int64))\n",
      "(array([1, 2], dtype=int64), array([ 31, 117], dtype=int64))\n",
      "(array([1, 2, 3, 4, 5, 6, 7, 8], dtype=int64), array([57, 37, 18, 10,  8,  8,  8,  2], dtype=int64))\n",
      "(array([1, 2, 3, 4], dtype=int64), array([ 2, 81, 61,  4], dtype=int64))\n"
     ]
    }
   ],
   "source": [
    "for col in df.columns:\n",
    "    print(np.unique(df[col],return_counts=True))"
   ]
  },
  {
   "cell_type": "code",
   "execution_count": 45,
   "metadata": {},
   "outputs": [],
   "source": [
    "## mapping Label 1,4 to 1(outlier) and Label 2,3 to 0(inliers)\n",
    "df.Label[df.Label == 3] = 0\n",
    "df.Label[df.Label == 4] = 1\n",
    "df.Label[df.Label == 1] = 1\n",
    "df.Label[df.Label == 2] = 0"
   ]
  },
  {
   "cell_type": "code",
   "execution_count": 46,
   "metadata": {},
   "outputs": [
    {
     "data": {
      "text/html": [
       "<div>\n",
       "<style scoped>\n",
       "    .dataframe tbody tr th:only-of-type {\n",
       "        vertical-align: middle;\n",
       "    }\n",
       "\n",
       "    .dataframe tbody tr th {\n",
       "        vertical-align: top;\n",
       "    }\n",
       "\n",
       "    .dataframe thead th {\n",
       "        text-align: right;\n",
       "    }\n",
       "</style>\n",
       "<table border=\"1\" class=\"dataframe\">\n",
       "  <thead>\n",
       "    <tr style=\"text-align: right;\">\n",
       "      <th></th>\n",
       "      <th>F1</th>\n",
       "      <th>F2</th>\n",
       "      <th>F3</th>\n",
       "      <th>F4</th>\n",
       "      <th>F5</th>\n",
       "      <th>F6</th>\n",
       "      <th>F7</th>\n",
       "      <th>F8</th>\n",
       "      <th>F9</th>\n",
       "      <th>F10</th>\n",
       "      <th>F11</th>\n",
       "      <th>F12</th>\n",
       "      <th>F13</th>\n",
       "      <th>F14</th>\n",
       "      <th>F15</th>\n",
       "      <th>F16</th>\n",
       "      <th>F17</th>\n",
       "      <th>F18</th>\n",
       "      <th>Label</th>\n",
       "    </tr>\n",
       "  </thead>\n",
       "  <tbody>\n",
       "    <tr>\n",
       "      <th>0</th>\n",
       "      <td>2</td>\n",
       "      <td>2</td>\n",
       "      <td>1</td>\n",
       "      <td>1</td>\n",
       "      <td>1</td>\n",
       "      <td>1</td>\n",
       "      <td>1</td>\n",
       "      <td>2</td>\n",
       "      <td>1</td>\n",
       "      <td>4</td>\n",
       "      <td>3</td>\n",
       "      <td>4</td>\n",
       "      <td>2</td>\n",
       "      <td>7</td>\n",
       "      <td>3</td>\n",
       "      <td>2</td>\n",
       "      <td>2</td>\n",
       "      <td>5</td>\n",
       "      <td>0</td>\n",
       "    </tr>\n",
       "    <tr>\n",
       "      <th>1</th>\n",
       "      <td>4</td>\n",
       "      <td>2</td>\n",
       "      <td>1</td>\n",
       "      <td>1</td>\n",
       "      <td>2</td>\n",
       "      <td>2</td>\n",
       "      <td>1</td>\n",
       "      <td>2</td>\n",
       "      <td>1</td>\n",
       "      <td>3</td>\n",
       "      <td>3</td>\n",
       "      <td>4</td>\n",
       "      <td>2</td>\n",
       "      <td>5</td>\n",
       "      <td>3</td>\n",
       "      <td>2</td>\n",
       "      <td>2</td>\n",
       "      <td>3</td>\n",
       "      <td>0</td>\n",
       "    </tr>\n",
       "    <tr>\n",
       "      <th>2</th>\n",
       "      <td>3</td>\n",
       "      <td>1</td>\n",
       "      <td>1</td>\n",
       "      <td>1</td>\n",
       "      <td>2</td>\n",
       "      <td>2</td>\n",
       "      <td>2</td>\n",
       "      <td>1</td>\n",
       "      <td>3</td>\n",
       "      <td>1</td>\n",
       "      <td>1</td>\n",
       "      <td>2</td>\n",
       "      <td>1</td>\n",
       "      <td>5</td>\n",
       "      <td>3</td>\n",
       "      <td>1</td>\n",
       "      <td>1</td>\n",
       "      <td>7</td>\n",
       "      <td>1</td>\n",
       "    </tr>\n",
       "    <tr>\n",
       "      <th>3</th>\n",
       "      <td>2</td>\n",
       "      <td>1</td>\n",
       "      <td>1</td>\n",
       "      <td>1</td>\n",
       "      <td>1</td>\n",
       "      <td>2</td>\n",
       "      <td>1</td>\n",
       "      <td>2</td>\n",
       "      <td>1</td>\n",
       "      <td>2</td>\n",
       "      <td>2</td>\n",
       "      <td>3</td>\n",
       "      <td>3</td>\n",
       "      <td>3</td>\n",
       "      <td>3</td>\n",
       "      <td>1</td>\n",
       "      <td>2</td>\n",
       "      <td>1</td>\n",
       "      <td>0</td>\n",
       "    </tr>\n",
       "    <tr>\n",
       "      <th>4</th>\n",
       "      <td>2</td>\n",
       "      <td>1</td>\n",
       "      <td>1</td>\n",
       "      <td>1</td>\n",
       "      <td>1</td>\n",
       "      <td>1</td>\n",
       "      <td>1</td>\n",
       "      <td>1</td>\n",
       "      <td>1</td>\n",
       "      <td>2</td>\n",
       "      <td>3</td>\n",
       "      <td>3</td>\n",
       "      <td>3</td>\n",
       "      <td>8</td>\n",
       "      <td>3</td>\n",
       "      <td>1</td>\n",
       "      <td>1</td>\n",
       "      <td>1</td>\n",
       "      <td>0</td>\n",
       "    </tr>\n",
       "  </tbody>\n",
       "</table>\n",
       "</div>"
      ],
      "text/plain": [
       "   F1  F2  F3  F4  F5  F6  F7  F8  F9  F10  F11  F12  F13  F14  F15  F16  F17  \\\n",
       "0   2   2   1   1   1   1   1   2   1    4    3    4    2    7    3    2    2   \n",
       "1   4   2   1   1   2   2   1   2   1    3    3    4    2    5    3    2    2   \n",
       "2   3   1   1   1   2   2   2   1   3    1    1    2    1    5    3    1    1   \n",
       "3   2   1   1   1   1   2   1   2   1    2    2    3    3    3    3    1    2   \n",
       "4   2   1   1   1   1   1   1   1   1    2    3    3    3    8    3    1    1   \n",
       "\n",
       "   F18  Label  \n",
       "0    5      0  \n",
       "1    3      0  \n",
       "2    7      1  \n",
       "3    1      0  \n",
       "4    1      0  "
      ]
     },
     "execution_count": 46,
     "metadata": {},
     "output_type": "execute_result"
    }
   ],
   "source": [
    "df.head()"
   ]
  },
  {
   "cell_type": "code",
   "execution_count": 47,
   "metadata": {},
   "outputs": [
    {
     "data": {
      "text/plain": [
       "(array([0, 1], dtype=int64), array([142,   6], dtype=int64))"
      ]
     },
     "execution_count": 47,
     "metadata": {},
     "output_type": "execute_result"
    }
   ],
   "source": [
    "np.unique(df.Label, return_counts=True)"
   ]
  },
  {
   "cell_type": "code",
   "execution_count": 48,
   "metadata": {},
   "outputs": [
    {
     "name": "stdout",
     "output_type": "stream",
     "text": [
      "(142, 19)\n",
      "(6, 19)\n"
     ]
    }
   ],
   "source": [
    "df_norm = df[df.Label == 0]\n",
    "df_anom = df[df.Label == 1]\n",
    "ds_norm = df_norm.values\n",
    "ds_anom = df_anom.values\n",
    "print(ds_norm.shape)\n",
    "print(ds_anom.shape)"
   ]
  },
  {
   "cell_type": "markdown",
   "metadata": {},
   "source": [
    "## Train Test split"
   ]
  },
  {
   "cell_type": "code",
   "execution_count": 49,
   "metadata": {},
   "outputs": [
    {
     "name": "stdout",
     "output_type": "stream",
     "text": [
      "(100, 18) (100,)\n"
     ]
    }
   ],
   "source": [
    "X_train = ds_norm[:100, :-1]\n",
    "Y_train = ds_norm[:100, -1]\n",
    "print(X_train.shape, Y_train.shape)"
   ]
  },
  {
   "cell_type": "code",
   "execution_count": 50,
   "metadata": {},
   "outputs": [
    {
     "name": "stdout",
     "output_type": "stream",
     "text": [
      "(48, 18)\n",
      "(48,)\n"
     ]
    }
   ],
   "source": [
    "l = ds_norm.shape[0] - X_train.shape[0] \n",
    "no_of_test_samples = l + ds_anom.shape[0]\n",
    "no_of_features = X_train.shape[1]\n",
    "\n",
    "X_test = np.zeros((no_of_test_samples, no_of_features))\n",
    "Y_test = np.zeros((no_of_test_samples,))\n",
    "\n",
    "X_test[:l, :] = ds_norm[100:, :-1]\n",
    "X_test[l:, :] = ds_anom[:,:-1]\n",
    "print(X_test.shape)\n",
    "Y_test[:l,] = ds_norm[100:, -1]\n",
    "Y_test[l:,] = ds_anom[:, -1]\n",
    "print(Y_test.shape)"
   ]
  },
  {
   "cell_type": "code",
   "execution_count": 10,
   "metadata": {},
   "outputs": [],
   "source": [
    "# import random\n",
    "# combined = list(zip(X_test, Y_test))\n",
    "# random.shuffle(combined)\n",
    "# X_test[:,:], Y_test[:,] = zip(*combined)"
   ]
  },
  {
   "cell_type": "code",
   "execution_count": 51,
   "metadata": {},
   "outputs": [
    {
     "name": "stdout",
     "output_type": "stream",
     "text": [
      "(100, 18) (100,)\n",
      "(48, 18) (48,)\n"
     ]
    }
   ],
   "source": [
    "print(X_train.shape, Y_train.shape)\n",
    "print(X_test.shape, Y_test.shape)"
   ]
  },
  {
   "cell_type": "markdown",
   "metadata": {},
   "source": [
    "## Model"
   ]
  },
  {
   "cell_type": "code",
   "execution_count": 54,
   "metadata": {},
   "outputs": [],
   "source": [
    "# CHECK : Constants\n",
    "omega = 1.\n",
    "\n",
    "class ELM(object):\n",
    "    def __init__(self, sess, batch_size, input_len, hidden_num, output_len, W, b):\n",
    "        '''\n",
    "        Args:\n",
    "          sess : TensorFlow session.\n",
    "          batch_size : The batch size (N)\n",
    "          input_len : The length of input. (L)\n",
    "          hidden_num : The number of hidden node. (K)\n",
    "          output_len : The length of output. (O)\n",
    "          W : randomly initialized weights\n",
    "          b : randomly initialized bias\n",
    "        '''\n",
    "    \n",
    "        self._sess = sess \n",
    "        self._batch_size = batch_size\n",
    "        self._input_len = input_len\n",
    "        self._hidden_num = hidden_num\n",
    "        self._output_len = output_len \n",
    "\n",
    "        # for train\n",
    "        self._x0 = tf.placeholder(tf.float32, [self._batch_size, self._input_len])\n",
    "        self._t0 = tf.placeholder(tf.float32, [self._batch_size, self._output_len])\n",
    "\n",
    "        # for test\n",
    "        self._x1 = tf.placeholder(tf.float32, [None, self._input_len])\n",
    "        self._t1 = tf.placeholder(tf.float32, [None, self._output_len])\n",
    "\n",
    "#         self._W = tf.Variable(\n",
    "#           tf.random_normal([self._input_len, self._hidden_num]),\n",
    "#           trainable=False, dtype=tf.float32)\n",
    "#         self._b = tf.Variable(\n",
    "#           tf.random_normal([self._hidden_num]),\n",
    "#           trainable=False, dtype=tf.float32)\n",
    "\n",
    "        ## Wts initialisation\n",
    "        self._W = W\n",
    "        self._b = b\n",
    "        \n",
    "        self._beta = tf.Variable(\n",
    "          tf.zeros([self._hidden_num, self._output_len]),\n",
    "          trainable=False, dtype=tf.float32)\n",
    "        self._var_list = [self._W, self._b, self._beta]\n",
    "\n",
    "        self.H0 = tf.matmul(self._x0, self._W) + self._b # N x L\n",
    "        self.H0_T = tf.transpose(self.H0)\n",
    "\n",
    "        self.H1 = tf.matmul(self._x1, self._W) + self._b # N x L\n",
    "        self.H1_T = tf.transpose(self.H1)\n",
    "\n",
    "        # beta analytic solution : self._beta_s (K x O)\n",
    "        if self._input_len < self._hidden_num: # L < K\n",
    "            identity = tf.constant(np.identity(self._hidden_num), dtype=tf.float32)\n",
    "            self._beta_s = tf.matmul(tf.matmul(tf.matrix_inverse(\n",
    "                tf.matmul(self.H0_T, self.H0) + identity/omega), \n",
    "                self.H0_T), self._t0)\n",
    "          # _beta_s = (H_T*H + I/om)^(-1)*H_T*T\n",
    "        else:\n",
    "            identity = tf.constant(np.identity(self._batch_size), dtype=tf.float32)\n",
    "            self._beta_s = tf.matmul(tf.matmul(self.H0_T, tf.matrix_inverse(\n",
    "                tf.matmul(self.H0, self.H0_T)+identity/omega)), self._t0)\n",
    "          # _beta_s = H_T*(H*H_T + I/om)^(-1)*T\n",
    "\n",
    "        self._assign_beta = self._beta.assign(self._beta_s)\n",
    "        self._fx0 = tf.matmul(self.H0, self._beta)\n",
    "        self._fx1 = tf.matmul(self.H1, self._beta)\n",
    "\n",
    "        self._cost = tf.reduce_mean(tf.cast(tf.losses.mean_squared_error(labels=self._t0, predictions=self._fx0), tf.float32))\n",
    "                                        \n",
    "        self._init = False\n",
    "        self._feed = False\n",
    "\n",
    "        # Cost for every sample point\n",
    "#         self._correct_prediction = tf.equal(tf.argmax(self._fx1,1), tf.argmax(self._t1,1))\n",
    "#         self._accuracy = tf.reduce_mean(tf.cast(self._correct_prediction, tf.float32))\n",
    "        self._testcost = tf.cast(tf.losses.mean_squared_error(labels=self._t1, predictions=self._fx1), tf.float32)\n",
    "\n",
    "\n",
    "    def feed(self, x, t):\n",
    "        '''\n",
    "        Args :\n",
    "          x : input array (N x L)\n",
    "          t : label array (N x O)\n",
    "        '''\n",
    "\n",
    "        if not self._init : self.init()\n",
    "        self._sess.run(self._assign_beta, {self._x0:x, self._t0:t})\n",
    "#         print(self._sess.run(self._cost, {self._x0:x, self._t0:t}))\n",
    "        \n",
    "        self._feed = True\n",
    "\n",
    "    def init(self):\n",
    "        self._sess.run(tf.initialize_variables(self._var_list))\n",
    "        self._init = True\n",
    "\n",
    "    def test(self, x, t=None):\n",
    "        if not self._feed : exit(\"Not feed-forward trained\")\n",
    "        if t is not None :\n",
    "#             print(\"Accuracy: {:.9f}\".format(self._sess.run(self._accuracy, {self._x1:x, self._t1:t})))\n",
    "            return self._sess.run(self._testcost, {self._x1:x, self._t1:t})\n",
    "            \n",
    "        else :\n",
    "            return self._sess.run(self._fx1, {self._x1:x})\n"
   ]
  },
  {
   "cell_type": "markdown",
   "metadata": {},
   "source": [
    "## Initializing Parameters"
   ]
  },
  {
   "cell_type": "code",
   "execution_count": 55,
   "metadata": {},
   "outputs": [],
   "source": [
    "import tensorflow as tf"
   ]
  },
  {
   "cell_type": "code",
   "execution_count": 56,
   "metadata": {},
   "outputs": [
    {
     "name": "stdout",
     "output_type": "stream",
     "text": [
      "batch_size : 100\n",
      "hidden_num : 150\n",
      "18\n"
     ]
    }
   ],
   "source": [
    "sess = tf.Session()\n",
    "batch_size = X_train.shape[0]\n",
    "hidden_num = 150\n",
    "input_len = X_train.shape[1]\n",
    "print(\"batch_size : {}\".format(batch_size))\n",
    "print(\"hidden_num : {}\".format(hidden_num))\n",
    "print(input_len)\n",
    "W = tf.Variable(\n",
    "  tf.random_normal([input_len, hidden_num]),\n",
    "  trainable=False, dtype=tf.float32)\n",
    "b = tf.Variable(\n",
    "  tf.random_normal([hidden_num]),\n",
    "  trainable=False, dtype=tf.float32)"
   ]
  },
  {
   "cell_type": "markdown",
   "metadata": {},
   "source": [
    "## Initializing list of W and b"
   ]
  },
  {
   "cell_type": "code",
   "execution_count": 57,
   "metadata": {},
   "outputs": [
    {
     "name": "stdout",
     "output_type": "stream",
     "text": [
      "10\n"
     ]
    }
   ],
   "source": [
    "init_list = []\n",
    "for i in range(10):\n",
    "        init_list.append((tf.Variable(tf.random_normal([input_len, hidden_num],seed=i),trainable=False, dtype=tf.float32),tf.Variable(tf.random_normal([hidden_num], seed=i),trainable=False, dtype=tf.float32)))\n",
    "print(len(init_list))"
   ]
  },
  {
   "cell_type": "markdown",
   "metadata": {},
   "source": [
    "## Accuracy Function"
   ]
  },
  {
   "cell_type": "code",
   "execution_count": 58,
   "metadata": {},
   "outputs": [],
   "source": [
    "def accuracy(anom_pred):\n",
    "    cnt = 0\n",
    "    for pt in anom_pred:\n",
    "        if pt[1]>=ds_norm.shape[0]-X_train.shape[0] and pt[1]<X_test.shape[0]:\n",
    "            cnt+=1\n",
    "    return (cnt/float(ds_anom.shape[0]))*100"
   ]
  },
  {
   "cell_type": "markdown",
   "metadata": {},
   "source": [
    "## Evaluation"
   ]
  },
  {
   "cell_type": "code",
   "execution_count": 59,
   "metadata": {},
   "outputs": [
    {
     "name": "stdout",
     "output_type": "stream",
     "text": [
      "0\n",
      "1\n",
      "2\n",
      "3\n",
      "4\n",
      "5\n",
      "6\n",
      "7\n",
      "8\n",
      "9\n"
     ]
    }
   ],
   "source": [
    "\n",
    "results = {}\n",
    "itr = 0\n",
    "best_W = tf.Variable(tf.zeros([input_len,hidden_num]))\n",
    "best_b = tf.Variable(tf.zeros([hidden_num]))\n",
    "best_acc = 0.0\n",
    "best_acc_idx = 0\n",
    "\n",
    "for W,b in init_list:\n",
    "    print(itr)\n",
    "    ## feed W,b from list and evaluate error and accuracy corresponding to them\n",
    "    elm = ELM(sess, batch_size, input_len, hidden_num, input_len, W, b)\n",
    "    train_x, train_y = (X_train[:batch_size], X_train[:batch_size])\n",
    "\n",
    "    elm.feed(train_x, train_y)\n",
    "    \n",
    "    ## error list\n",
    "    err = []\n",
    "    for idx,test_pt in enumerate(X_test):\n",
    "        x = test_pt.reshape(1,-1)\n",
    "        err.append((elm.test(x, x), idx))\n",
    "    \n",
    "    err.sort(reverse=True)\n",
    "    \n",
    "    anom_pred = err[:ds_anom.shape[0]]\n",
    "    \n",
    "    acc = accuracy(anom_pred) \n",
    "    \n",
    "    results[itr] = [(err,acc)]\n",
    "    itr += 1\n",
    "    if acc>best_acc:\n",
    "        best_W = W\n",
    "        best_b = b\n",
    "        best_acc = acc\n",
    "        best_acc_idx = itr-1\n",
    "    \n"
   ]
  },
  {
   "cell_type": "code",
   "execution_count": 60,
   "metadata": {},
   "outputs": [
    {
     "name": "stdout",
     "output_type": "stream",
     "text": [
      "66.66666666666666\n",
      "66.66666666666666\n",
      "83.33333333333334\n",
      "66.66666666666666\n",
      "66.66666666666666\n",
      "83.33333333333334\n",
      "50.0\n",
      "66.66666666666666\n",
      "83.33333333333334\n",
      "66.66666666666666\n"
     ]
    }
   ],
   "source": [
    "for k in results.keys():\n",
    "    print(results[k][0][1])"
   ]
  },
  {
   "cell_type": "code",
   "execution_count": 61,
   "metadata": {
    "scrolled": true
   },
   "outputs": [
    {
     "data": {
      "text/plain": [
       "[(0.04000504, 45),\n",
       " (0.021530636, 44),\n",
       " (0.012922462, 42),\n",
       " (0.009867011, 43),\n",
       " (0.002212776, 47),\n",
       " (0.0015017783, 16),\n",
       " (0.0014564166, 26),\n",
       " (0.0014317613, 31),\n",
       " (0.0012934715, 41),\n",
       " (0.0011161696, 3),\n",
       " (0.0009064603, 22),\n",
       " (0.0008833786, 12),\n",
       " (0.00076620025, 14),\n",
       " (0.0007287688, 28),\n",
       " (0.0005990489, 15),\n",
       " (0.00058650214, 33),\n",
       " (0.00050843606, 46),\n",
       " (0.00042294885, 8),\n",
       " (0.00041065828, 24),\n",
       " (0.00038831582, 21),\n",
       " (0.00037542396, 30),\n",
       " (0.00034805716, 39),\n",
       " (0.00034382043, 11),\n",
       " (0.0002707517, 18),\n",
       " (0.00026591166, 7),\n",
       " (0.00025973687, 6),\n",
       " (0.0002505962, 0),\n",
       " (0.0002406475, 1),\n",
       " (0.00023407303, 4),\n",
       " (0.00020005637, 34),\n",
       " (0.00019414586, 25),\n",
       " (0.00018064756, 2),\n",
       " (0.00018026297, 36),\n",
       " (0.00016751069, 40),\n",
       " (0.00013273886, 23),\n",
       " (0.0001304348, 5),\n",
       " (9.1753434e-05, 35),\n",
       " (9.1046546e-05, 27),\n",
       " (8.74151e-05, 32),\n",
       " (7.6066666e-05, 38),\n",
       " (6.3041705e-05, 13),\n",
       " (5.2305048e-05, 37),\n",
       " (4.9820577e-05, 9),\n",
       " (4.4040346e-05, 17),\n",
       " (3.2898275e-05, 29),\n",
       " (1.6614662e-05, 19),\n",
       " (1.3442618e-05, 20),\n",
       " (9.675049e-06, 10)]"
      ]
     },
     "execution_count": 61,
     "metadata": {},
     "output_type": "execute_result"
    }
   ],
   "source": [
    "err = results[best_acc_idx][0][0]\n",
    "err"
   ]
  },
  {
   "cell_type": "code",
   "execution_count": 62,
   "metadata": {},
   "outputs": [],
   "source": [
    "err_array = np.array(err)"
   ]
  },
  {
   "cell_type": "code",
   "execution_count": 63,
   "metadata": {},
   "outputs": [
    {
     "data": {
      "image/png": "[encoded data removed]",
      "text/plain": [
       "<Figure size 432x288 with 1 Axes>"
      ]
     },
     "metadata": {
      "needs_background": "light"
     },
     "output_type": "display_data"
    }
   ],
   "source": [
    "plt.bar(err_array[:,1], err_array[:,0])\n",
    "plt.show()"
   ]
  },
  {
   "cell_type": "code",
   "execution_count": 64,
   "metadata": {},
   "outputs": [
    {
     "name": "stdout",
     "output_type": "stream",
     "text": [
      "(18, 150)\n",
      "(150,)\n",
      "83.33333333333334\n"
     ]
    }
   ],
   "source": [
    "W_final = best_W.eval(session=sess)\n",
    "b_final = best_b.eval(session=sess)\n",
    "print(W_final.shape)\n",
    "print(b_final.shape)\n",
    "print(best_acc)"
   ]
  },
  {
   "cell_type": "code",
   "execution_count": null,
   "metadata": {},
   "outputs": [],
   "source": []
  }
 ],
 "metadata": {
  "kernelspec": {
   "display_name": "Python 3",
   "language": "python",
   "name": "python3"
  },
  "language_info": {
   "codemirror_mode": {
    "name": "ipython",
    "version": 3
   },
   "file_extension": ".py",
   "mimetype": "text/x-python",
   "name": "python",
   "nbconvert_exporter": "python",
   "pygments_lexer": "ipython3",
   "version": "3.6.5"
  }
 },
 "nbformat": 4,
 "nbformat_minor": 2
}
